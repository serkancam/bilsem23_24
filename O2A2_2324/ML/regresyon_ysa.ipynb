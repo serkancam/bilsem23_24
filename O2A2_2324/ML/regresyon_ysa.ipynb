{
 "cells": [
  {
   "cell_type": "code",
   "execution_count": 9,
   "metadata": {},
   "outputs": [],
   "source": [
    "# regresyon_ysa.ipynb\n",
    "import pandas as pd\n",
    "import numpy as np"
   ]
  },
  {
   "cell_type": "code",
   "execution_count": 10,
   "metadata": {},
   "outputs": [
    {
     "data": {
      "text/html": [
       "<div>\n",
       "<style scoped>\n",
       "    .dataframe tbody tr th:only-of-type {\n",
       "        vertical-align: middle;\n",
       "    }\n",
       "\n",
       "    .dataframe tbody tr th {\n",
       "        vertical-align: top;\n",
       "    }\n",
       "\n",
       "    .dataframe thead th {\n",
       "        text-align: right;\n",
       "    }\n",
       "</style>\n",
       "<table border=\"1\" class=\"dataframe\">\n",
       "  <thead>\n",
       "    <tr style=\"text-align: right;\">\n",
       "      <th></th>\n",
       "      <th>ozellik1</th>\n",
       "      <th>ozellik2</th>\n",
       "      <th>sinif-hedef</th>\n",
       "    </tr>\n",
       "  </thead>\n",
       "  <tbody>\n",
       "    <tr>\n",
       "      <th>0</th>\n",
       "      <td>10</td>\n",
       "      <td>5</td>\n",
       "      <td>38</td>\n",
       "    </tr>\n",
       "    <tr>\n",
       "      <th>1</th>\n",
       "      <td>20</td>\n",
       "      <td>30</td>\n",
       "      <td>93</td>\n",
       "    </tr>\n",
       "    <tr>\n",
       "      <th>2</th>\n",
       "      <td>3</td>\n",
       "      <td>2</td>\n",
       "      <td>14</td>\n",
       "    </tr>\n",
       "    <tr>\n",
       "      <th>3</th>\n",
       "      <td>5</td>\n",
       "      <td>8</td>\n",
       "      <td>26</td>\n",
       "    </tr>\n",
       "    <tr>\n",
       "      <th>4</th>\n",
       "      <td>7</td>\n",
       "      <td>10</td>\n",
       "      <td>34</td>\n",
       "    </tr>\n",
       "  </tbody>\n",
       "</table>\n",
       "</div>"
      ],
      "text/plain": [
       "   ozellik1  ozellik2  sinif-hedef\n",
       "0        10         5           38\n",
       "1        20        30           93\n",
       "2         3         2           14\n",
       "3         5         8           26\n",
       "4         7        10           34"
      ]
     },
     "execution_count": 10,
     "metadata": {},
     "output_type": "execute_result"
    }
   ],
   "source": [
    "veri = pd.read_csv(\"regresyon_veri2.csv\")\n",
    "veri.head()"
   ]
  },
  {
   "cell_type": "code",
   "execution_count": 11,
   "metadata": {},
   "outputs": [
    {
     "data": {
      "text/html": [
       "<div>\n",
       "<style scoped>\n",
       "    .dataframe tbody tr th:only-of-type {\n",
       "        vertical-align: middle;\n",
       "    }\n",
       "\n",
       "    .dataframe tbody tr th {\n",
       "        vertical-align: top;\n",
       "    }\n",
       "\n",
       "    .dataframe thead th {\n",
       "        text-align: right;\n",
       "    }\n",
       "</style>\n",
       "<table border=\"1\" class=\"dataframe\">\n",
       "  <thead>\n",
       "    <tr style=\"text-align: right;\">\n",
       "      <th></th>\n",
       "      <th>ozellik1</th>\n",
       "      <th>ozellik2</th>\n",
       "      <th>sinif-hedef</th>\n",
       "    </tr>\n",
       "  </thead>\n",
       "  <tbody>\n",
       "    <tr>\n",
       "      <th>0</th>\n",
       "      <td>-0.706900</td>\n",
       "      <td>-0.829696</td>\n",
       "      <td>-0.811129</td>\n",
       "    </tr>\n",
       "    <tr>\n",
       "      <th>1</th>\n",
       "      <td>-0.372826</td>\n",
       "      <td>-0.091532</td>\n",
       "      <td>-0.323991</td>\n",
       "    </tr>\n",
       "    <tr>\n",
       "      <th>2</th>\n",
       "      <td>-0.940752</td>\n",
       "      <td>-0.918275</td>\n",
       "      <td>-1.023698</td>\n",
       "    </tr>\n",
       "    <tr>\n",
       "      <th>3</th>\n",
       "      <td>-0.873937</td>\n",
       "      <td>-0.741116</td>\n",
       "      <td>-0.917414</td>\n",
       "    </tr>\n",
       "    <tr>\n",
       "      <th>4</th>\n",
       "      <td>-0.807122</td>\n",
       "      <td>-0.682063</td>\n",
       "      <td>-0.846557</td>\n",
       "    </tr>\n",
       "  </tbody>\n",
       "</table>\n",
       "</div>"
      ],
      "text/plain": [
       "   ozellik1  ozellik2  sinif-hedef\n",
       "0 -0.706900 -0.829696    -0.811129\n",
       "1 -0.372826 -0.091532    -0.323991\n",
       "2 -0.940752 -0.918275    -1.023698\n",
       "3 -0.873937 -0.741116    -0.917414\n",
       "4 -0.807122 -0.682063    -0.846557"
      ]
     },
     "execution_count": 11,
     "metadata": {},
     "output_type": "execute_result"
    }
   ],
   "source": [
    "#verileri normalize ediyoruz -1,1 aralığna sıkıştırıyoruz.\n",
    "ort = veri.mean()\n",
    "std=veri.std()\n",
    "veri_ham=veri.copy()\n",
    "veri = (veri-ort)/std\n",
    "veri.head()"
   ]
  },
  {
   "cell_type": "code",
   "execution_count": 12,
   "metadata": {},
   "outputs": [
    {
     "name": "stdout",
     "output_type": "stream",
     "text": [
      "ozellik1        31.16\n",
      "ozellik2        33.10\n",
      "sinif-hedef    129.58\n",
      "dtype: float64\n",
      "ozellik1        29.933505\n",
      "ozellik2        33.867840\n",
      "sinif-hedef    112.904346\n",
      "dtype: float64\n"
     ]
    }
   ],
   "source": [
    "print(ort)\n",
    "print(std)"
   ]
  },
  {
   "cell_type": "code",
   "execution_count": 13,
   "metadata": {},
   "outputs": [
    {
     "name": "stdout",
     "output_type": "stream",
     "text": [
      "[[-0.70690019 -0.82969565]\n",
      " [-0.37282638 -0.09153226]\n",
      " [-0.94075186 -0.91827526]\n",
      " [-0.8739371  -0.74111605]\n",
      " [-0.80712233 -0.68206298]]\n",
      "------------------------------\n",
      "[-0.81112909 -0.32399107 -1.02369841 -0.91741375 -0.84655731]\n"
     ]
    }
   ],
   "source": [
    "X = veri.iloc[:,:-1].values\n",
    "y = veri.iloc[:,-1].values\n",
    "print(X[0:5])\n",
    "print(30*\"-\")\n",
    "print(y[0:5])"
   ]
  },
  {
   "cell_type": "code",
   "execution_count": 14,
   "metadata": {},
   "outputs": [],
   "source": [
    "import tensorflow as tf\n",
    "import keras\n",
    "from keras import layers,models,optimizers\n",
    "from keras.callbacks import ModelCheckpoint"
   ]
  },
  {
   "cell_type": "code",
   "execution_count": 15,
   "metadata": {},
   "outputs": [
    {
     "name": "stdout",
     "output_type": "stream",
     "text": [
      "Model: \"sequential_1\"\n",
      "_________________________________________________________________\n",
      " Layer (type)                Output Shape              Param #   \n",
      "=================================================================\n",
      " dense_3 (Dense)             (None, 16)                48        \n",
      "                                                                 \n",
      " dense_4 (Dense)             (None, 8)                 136       \n",
      "                                                                 \n",
      " dense_5 (Dense)             (None, 1)                 9         \n",
      "                                                                 \n",
      "=================================================================\n",
      "Total params: 193 (772.00 Byte)\n",
      "Trainable params: 193 (772.00 Byte)\n",
      "Non-trainable params: 0 (0.00 Byte)\n",
      "_________________________________________________________________\n",
      "None\n"
     ]
    }
   ],
   "source": [
    "ysa = models.Sequential()\n",
    "ysa.add(layers.Dense(16,input_shape=(2,),activation=\"relu\"))\n",
    "ysa.add(layers.Dense(8,activation=\"relu\"))\n",
    "ysa.add(layers.Dense(1)) # regresyon tahminlemesi olacağı için aktivasyon fonksiyonu eklemiyorum\n",
    "\n",
    "ysa.compile(optimizer=\"rmsprop\",loss=\"mse\",metrics=[\"mae\"])\n",
    "\n",
    "print(ysa.summary())\n",
    "\n"
   ]
  },
  {
   "cell_type": "code",
   "execution_count": 16,
   "metadata": {},
   "outputs": [
    {
     "name": "stdout",
     "output_type": "stream",
     "text": [
      "Epoch 1/100\n"
     ]
    },
    {
     "name": "stdout",
     "output_type": "stream",
     "text": [
      "2/2 [==============================] - 0s 71ms/step - loss: 0.7013 - mae: 0.7704 - val_loss: 0.2752 - val_mae: 0.4867\n",
      "Epoch 2/100\n",
      "2/2 [==============================] - 0s 14ms/step - loss: 0.6323 - mae: 0.7331 - val_loss: 0.2660 - val_mae: 0.4817\n",
      "Epoch 3/100\n",
      "2/2 [==============================] - 0s 14ms/step - loss: 0.5838 - mae: 0.7076 - val_loss: 0.2457 - val_mae: 0.4628\n",
      "Epoch 4/100\n",
      "2/2 [==============================] - 0s 15ms/step - loss: 0.5488 - mae: 0.6861 - val_loss: 0.2297 - val_mae: 0.4480\n",
      "Epoch 5/100\n",
      "2/2 [==============================] - 0s 16ms/step - loss: 0.5168 - mae: 0.6650 - val_loss: 0.2209 - val_mae: 0.4418\n",
      "Epoch 6/100\n",
      "2/2 [==============================] - 0s 15ms/step - loss: 0.4842 - mae: 0.6466 - val_loss: 0.2110 - val_mae: 0.4331\n",
      "Epoch 7/100\n",
      "2/2 [==============================] - 0s 14ms/step - loss: 0.4573 - mae: 0.6297 - val_loss: 0.2003 - val_mae: 0.4225\n",
      "Epoch 8/100\n",
      "2/2 [==============================] - 0s 15ms/step - loss: 0.4351 - mae: 0.6143 - val_loss: 0.1895 - val_mae: 0.4122\n",
      "Epoch 9/100\n",
      "2/2 [==============================] - 0s 15ms/step - loss: 0.4109 - mae: 0.5973 - val_loss: 0.1802 - val_mae: 0.4030\n",
      "Epoch 10/100\n",
      "2/2 [==============================] - 0s 14ms/step - loss: 0.3882 - mae: 0.5813 - val_loss: 0.1738 - val_mae: 0.3966\n",
      "Epoch 11/100\n",
      "2/2 [==============================] - 0s 15ms/step - loss: 0.3671 - mae: 0.5662 - val_loss: 0.1662 - val_mae: 0.3891\n",
      "Epoch 12/100\n",
      "2/2 [==============================] - 0s 14ms/step - loss: 0.3482 - mae: 0.5516 - val_loss: 0.1590 - val_mae: 0.3813\n",
      "Epoch 13/100\n",
      "2/2 [==============================] - 0s 15ms/step - loss: 0.3289 - mae: 0.5370 - val_loss: 0.1546 - val_mae: 0.3777\n",
      "Epoch 14/100\n",
      "2/2 [==============================] - 0s 14ms/step - loss: 0.3080 - mae: 0.5209 - val_loss: 0.1446 - val_mae: 0.3658\n",
      "Epoch 15/100\n",
      "2/2 [==============================] - 0s 14ms/step - loss: 0.2908 - mae: 0.5062 - val_loss: 0.1357 - val_mae: 0.3558\n",
      "Epoch 16/100\n",
      "2/2 [==============================] - 0s 15ms/step - loss: 0.2713 - mae: 0.4894 - val_loss: 0.1308 - val_mae: 0.3506\n",
      "Epoch 17/100\n",
      "2/2 [==============================] - 0s 16ms/step - loss: 0.2530 - mae: 0.4731 - val_loss: 0.1207 - val_mae: 0.3368\n",
      "Epoch 18/100\n",
      "2/2 [==============================] - 0s 14ms/step - loss: 0.2388 - mae: 0.4590 - val_loss: 0.1119 - val_mae: 0.3237\n",
      "Epoch 19/100\n",
      "2/2 [==============================] - 0s 14ms/step - loss: 0.2250 - mae: 0.4448 - val_loss: 0.1035 - val_mae: 0.3118\n",
      "Epoch 20/100\n",
      "2/2 [==============================] - 0s 14ms/step - loss: 0.2115 - mae: 0.4308 - val_loss: 0.0988 - val_mae: 0.3051\n",
      "Epoch 21/100\n",
      "2/2 [==============================] - 0s 14ms/step - loss: 0.1991 - mae: 0.4178 - val_loss: 0.0950 - val_mae: 0.2997\n",
      "Epoch 22/100\n",
      "2/2 [==============================] - 0s 14ms/step - loss: 0.1858 - mae: 0.4030 - val_loss: 0.0876 - val_mae: 0.2878\n",
      "Epoch 23/100\n",
      "2/2 [==============================] - 0s 14ms/step - loss: 0.1732 - mae: 0.3890 - val_loss: 0.0820 - val_mae: 0.2791\n",
      "Epoch 24/100\n",
      "2/2 [==============================] - 0s 14ms/step - loss: 0.1607 - mae: 0.3744 - val_loss: 0.0748 - val_mae: 0.2666\n",
      "Epoch 25/100\n",
      "2/2 [==============================] - 0s 14ms/step - loss: 0.1489 - mae: 0.3604 - val_loss: 0.0707 - val_mae: 0.2594\n",
      "Epoch 26/100\n",
      "2/2 [==============================] - 0s 14ms/step - loss: 0.1380 - mae: 0.3467 - val_loss: 0.0649 - val_mae: 0.2484\n",
      "Epoch 27/100\n",
      "2/2 [==============================] - 0s 15ms/step - loss: 0.1274 - mae: 0.3337 - val_loss: 0.0571 - val_mae: 0.2333\n",
      "Epoch 28/100\n",
      "2/2 [==============================] - 0s 14ms/step - loss: 0.1155 - mae: 0.3186 - val_loss: 0.0500 - val_mae: 0.2182\n",
      "Epoch 29/100\n",
      "2/2 [==============================] - 0s 14ms/step - loss: 0.1058 - mae: 0.3063 - val_loss: 0.0445 - val_mae: 0.2053\n",
      "Epoch 30/100\n",
      "2/2 [==============================] - 0s 14ms/step - loss: 0.0977 - mae: 0.2953 - val_loss: 0.0409 - val_mae: 0.1974\n",
      "Epoch 31/100\n",
      "2/2 [==============================] - 0s 14ms/step - loss: 0.0882 - mae: 0.2810 - val_loss: 0.0362 - val_mae: 0.1861\n",
      "Epoch 32/100\n",
      "2/2 [==============================] - 0s 14ms/step - loss: 0.0804 - mae: 0.2691 - val_loss: 0.0305 - val_mae: 0.1704\n",
      "Epoch 33/100\n",
      "2/2 [==============================] - 0s 14ms/step - loss: 0.0731 - mae: 0.2579 - val_loss: 0.0262 - val_mae: 0.1580\n",
      "Epoch 34/100\n",
      "2/2 [==============================] - 0s 14ms/step - loss: 0.0665 - mae: 0.2470 - val_loss: 0.0221 - val_mae: 0.1452\n",
      "Epoch 35/100\n",
      "2/2 [==============================] - 0s 14ms/step - loss: 0.0598 - mae: 0.2352 - val_loss: 0.0185 - val_mae: 0.1329\n",
      "Epoch 36/100\n",
      "2/2 [==============================] - 0s 14ms/step - loss: 0.0536 - mae: 0.2233 - val_loss: 0.0172 - val_mae: 0.1283\n",
      "Epoch 37/100\n",
      "2/2 [==============================] - 0s 14ms/step - loss: 0.0479 - mae: 0.2106 - val_loss: 0.0152 - val_mae: 0.1208\n",
      "Epoch 38/100\n",
      "2/2 [==============================] - 0s 16ms/step - loss: 0.0429 - mae: 0.1987 - val_loss: 0.0120 - val_mae: 0.1068\n",
      "Epoch 39/100\n",
      "2/2 [==============================] - 0s 14ms/step - loss: 0.0376 - mae: 0.1860 - val_loss: 0.0101 - val_mae: 0.0977\n",
      "Epoch 40/100\n",
      "2/2 [==============================] - 0s 14ms/step - loss: 0.0331 - mae: 0.1734 - val_loss: 0.0095 - val_mae: 0.0950\n",
      "Epoch 41/100\n",
      "2/2 [==============================] - 0s 14ms/step - loss: 0.0297 - mae: 0.1629 - val_loss: 0.0073 - val_mae: 0.0828\n",
      "Epoch 42/100\n",
      "2/2 [==============================] - 0s 15ms/step - loss: 0.0265 - mae: 0.1536 - val_loss: 0.0061 - val_mae: 0.0750\n",
      "Epoch 43/100\n",
      "2/2 [==============================] - 0s 15ms/step - loss: 0.0236 - mae: 0.1432 - val_loss: 0.0038 - val_mae: 0.0586\n",
      "Epoch 44/100\n",
      "2/2 [==============================] - 0s 14ms/step - loss: 0.0207 - mae: 0.1326 - val_loss: 0.0035 - val_mae: 0.0555\n",
      "Epoch 45/100\n",
      "2/2 [==============================] - 0s 14ms/step - loss: 0.0184 - mae: 0.1226 - val_loss: 0.0029 - val_mae: 0.0488\n",
      "Epoch 46/100\n",
      "2/2 [==============================] - 0s 14ms/step - loss: 0.0167 - mae: 0.1141 - val_loss: 0.0020 - val_mae: 0.0383\n",
      "Epoch 47/100\n",
      "2/2 [==============================] - 0s 15ms/step - loss: 0.0149 - mae: 0.1037 - val_loss: 0.0020 - val_mae: 0.0363\n",
      "Epoch 48/100\n",
      "2/2 [==============================] - 0s 16ms/step - loss: 0.0140 - mae: 0.0959 - val_loss: 0.0023 - val_mae: 0.0408\n",
      "Epoch 49/100\n",
      "2/2 [==============================] - 0s 14ms/step - loss: 0.0130 - mae: 0.0909 - val_loss: 0.0018 - val_mae: 0.0358\n",
      "Epoch 50/100\n",
      "2/2 [==============================] - 0s 14ms/step - loss: 0.0120 - mae: 0.0851 - val_loss: 0.0015 - val_mae: 0.0334\n",
      "Epoch 51/100\n",
      "2/2 [==============================] - 0s 14ms/step - loss: 0.0112 - mae: 0.0805 - val_loss: 0.0012 - val_mae: 0.0298\n",
      "Epoch 52/100\n",
      "2/2 [==============================] - 0s 15ms/step - loss: 0.0103 - mae: 0.0737 - val_loss: 6.4453e-04 - val_mae: 0.0231\n",
      "Epoch 53/100\n",
      "2/2 [==============================] - 0s 15ms/step - loss: 0.0095 - mae: 0.0722 - val_loss: 4.8357e-04 - val_mae: 0.0203\n",
      "Epoch 54/100\n",
      "2/2 [==============================] - 0s 15ms/step - loss: 0.0088 - mae: 0.0664 - val_loss: 5.3270e-04 - val_mae: 0.0216\n",
      "Epoch 55/100\n",
      "2/2 [==============================] - 0s 14ms/step - loss: 0.0083 - mae: 0.0631 - val_loss: 7.4405e-04 - val_mae: 0.0258\n",
      "Epoch 56/100\n",
      "2/2 [==============================] - 0s 14ms/step - loss: 0.0079 - mae: 0.0620 - val_loss: 6.2786e-04 - val_mae: 0.0234\n",
      "Epoch 57/100\n",
      "2/2 [==============================] - 0s 14ms/step - loss: 0.0074 - mae: 0.0596 - val_loss: 6.7551e-04 - val_mae: 0.0242\n",
      "Epoch 58/100\n",
      "2/2 [==============================] - 0s 15ms/step - loss: 0.0070 - mae: 0.0569 - val_loss: 0.0011 - val_mae: 0.0310\n",
      "Epoch 59/100\n",
      "2/2 [==============================] - 0s 17ms/step - loss: 0.0065 - mae: 0.0567 - val_loss: 7.5066e-04 - val_mae: 0.0243\n",
      "Epoch 60/100\n",
      "2/2 [==============================] - 0s 14ms/step - loss: 0.0063 - mae: 0.0558 - val_loss: 6.7268e-04 - val_mae: 0.0252\n",
      "Epoch 61/100\n",
      "2/2 [==============================] - 0s 14ms/step - loss: 0.0059 - mae: 0.0501 - val_loss: 5.9442e-04 - val_mae: 0.0234\n",
      "Epoch 62/100\n",
      "2/2 [==============================] - 0s 14ms/step - loss: 0.0056 - mae: 0.0482 - val_loss: 9.2975e-04 - val_mae: 0.0297\n",
      "Epoch 63/100\n",
      "2/2 [==============================] - 0s 14ms/step - loss: 0.0055 - mae: 0.0501 - val_loss: 8.9639e-04 - val_mae: 0.0289\n",
      "Epoch 64/100\n",
      "2/2 [==============================] - 0s 14ms/step - loss: 0.0051 - mae: 0.0457 - val_loss: 0.0012 - val_mae: 0.0315\n",
      "Epoch 65/100\n",
      "2/2 [==============================] - 0s 14ms/step - loss: 0.0049 - mae: 0.0461 - val_loss: 6.5469e-04 - val_mae: 0.0238\n",
      "Epoch 66/100\n",
      "2/2 [==============================] - 0s 14ms/step - loss: 0.0047 - mae: 0.0452 - val_loss: 5.9591e-04 - val_mae: 0.0221\n",
      "Epoch 67/100\n",
      "2/2 [==============================] - 0s 14ms/step - loss: 0.0045 - mae: 0.0424 - val_loss: 7.9027e-04 - val_mae: 0.0273\n",
      "Epoch 68/100\n",
      "2/2 [==============================] - 0s 14ms/step - loss: 0.0045 - mae: 0.0442 - val_loss: 5.6962e-04 - val_mae: 0.0216\n",
      "Epoch 69/100\n",
      "2/2 [==============================] - 0s 14ms/step - loss: 0.0041 - mae: 0.0385 - val_loss: 8.0707e-04 - val_mae: 0.0250\n",
      "Epoch 70/100\n",
      "2/2 [==============================] - 0s 14ms/step - loss: 0.0038 - mae: 0.0372 - val_loss: 0.0013 - val_mae: 0.0301\n",
      "Epoch 71/100\n",
      "2/2 [==============================] - 0s 15ms/step - loss: 0.0037 - mae: 0.0393 - val_loss: 8.7435e-04 - val_mae: 0.0263\n",
      "Epoch 72/100\n",
      "2/2 [==============================] - 0s 21ms/step - loss: 0.0035 - mae: 0.0373 - val_loss: 8.0962e-04 - val_mae: 0.0254\n",
      "Epoch 73/100\n",
      "2/2 [==============================] - 0s 14ms/step - loss: 0.0034 - mae: 0.0383 - val_loss: 8.1739e-04 - val_mae: 0.0233\n",
      "Epoch 74/100\n",
      "2/2 [==============================] - 0s 15ms/step - loss: 0.0031 - mae: 0.0352 - val_loss: 7.1336e-04 - val_mae: 0.0219\n",
      "Epoch 75/100\n",
      "2/2 [==============================] - 0s 14ms/step - loss: 0.0030 - mae: 0.0356 - val_loss: 8.4253e-04 - val_mae: 0.0246\n",
      "Epoch 76/100\n",
      "2/2 [==============================] - 0s 15ms/step - loss: 0.0027 - mae: 0.0299 - val_loss: 7.4912e-04 - val_mae: 0.0216\n",
      "Epoch 77/100\n",
      "2/2 [==============================] - 0s 14ms/step - loss: 0.0025 - mae: 0.0323 - val_loss: 0.0010 - val_mae: 0.0262\n",
      "Epoch 78/100\n",
      "2/2 [==============================] - 0s 14ms/step - loss: 0.0023 - mae: 0.0303 - val_loss: 6.9576e-04 - val_mae: 0.0227\n",
      "Epoch 79/100\n",
      "2/2 [==============================] - 0s 14ms/step - loss: 0.0021 - mae: 0.0270 - val_loss: 7.2691e-04 - val_mae: 0.0228\n",
      "Epoch 80/100\n",
      "2/2 [==============================] - 0s 15ms/step - loss: 0.0023 - mae: 0.0307 - val_loss: 8.8146e-04 - val_mae: 0.0257\n",
      "Epoch 81/100\n",
      "2/2 [==============================] - 0s 14ms/step - loss: 0.0022 - mae: 0.0324 - val_loss: 6.1060e-04 - val_mae: 0.0197\n",
      "Epoch 82/100\n",
      "2/2 [==============================] - 0s 15ms/step - loss: 0.0018 - mae: 0.0265 - val_loss: 9.2113e-04 - val_mae: 0.0246\n",
      "Epoch 83/100\n",
      "2/2 [==============================] - 0s 14ms/step - loss: 0.0018 - mae: 0.0263 - val_loss: 0.0011 - val_mae: 0.0283\n",
      "Epoch 84/100\n",
      "2/2 [==============================] - 0s 14ms/step - loss: 0.0016 - mae: 0.0263 - val_loss: 5.7030e-04 - val_mae: 0.0187\n",
      "Epoch 85/100\n",
      "2/2 [==============================] - 0s 14ms/step - loss: 0.0015 - mae: 0.0248 - val_loss: 7.9689e-04 - val_mae: 0.0232\n",
      "Epoch 86/100\n",
      "2/2 [==============================] - 0s 15ms/step - loss: 0.0015 - mae: 0.0273 - val_loss: 8.7273e-04 - val_mae: 0.0263\n",
      "Epoch 87/100\n",
      "2/2 [==============================] - 0s 14ms/step - loss: 0.0014 - mae: 0.0247 - val_loss: 0.0010 - val_mae: 0.0273\n",
      "Epoch 88/100\n",
      "2/2 [==============================] - 0s 14ms/step - loss: 0.0016 - mae: 0.0323 - val_loss: 3.4954e-04 - val_mae: 0.0140\n",
      "Epoch 89/100\n",
      "2/2 [==============================] - 0s 14ms/step - loss: 0.0012 - mae: 0.0246 - val_loss: 4.7651e-04 - val_mae: 0.0165\n",
      "Epoch 90/100\n",
      "2/2 [==============================] - 0s 14ms/step - loss: 0.0011 - mae: 0.0206 - val_loss: 9.3942e-04 - val_mae: 0.0279\n",
      "Epoch 91/100\n",
      "2/2 [==============================] - 0s 15ms/step - loss: 0.0011 - mae: 0.0218 - val_loss: 6.8765e-04 - val_mae: 0.0224\n",
      "Epoch 92/100\n",
      "2/2 [==============================] - 0s 14ms/step - loss: 0.0011 - mae: 0.0223 - val_loss: 4.9931e-04 - val_mae: 0.0194\n",
      "Epoch 93/100\n",
      "2/2 [==============================] - 0s 14ms/step - loss: 0.0012 - mae: 0.0248 - val_loss: 6.2018e-04 - val_mae: 0.0207\n",
      "Epoch 94/100\n",
      "2/2 [==============================] - 0s 22ms/step - loss: 0.0013 - mae: 0.0279 - val_loss: 4.0659e-04 - val_mae: 0.0174\n",
      "Epoch 95/100\n",
      "2/2 [==============================] - 0s 22ms/step - loss: 8.3373e-04 - mae: 0.0184 - val_loss: 0.0013 - val_mae: 0.0313\n",
      "Epoch 96/100\n",
      "2/2 [==============================] - 0s 14ms/step - loss: 8.2174e-04 - mae: 0.0201 - val_loss: 8.9287e-04 - val_mae: 0.0251\n",
      "Epoch 97/100\n",
      "2/2 [==============================] - 0s 15ms/step - loss: 6.6625e-04 - mae: 0.0178 - val_loss: 0.0011 - val_mae: 0.0274\n",
      "Epoch 98/100\n",
      "2/2 [==============================] - 0s 14ms/step - loss: 7.7615e-04 - mae: 0.0220 - val_loss: 0.0012 - val_mae: 0.0290\n",
      "Epoch 99/100\n",
      "2/2 [==============================] - 0s 14ms/step - loss: 7.5615e-04 - mae: 0.0228 - val_loss: 3.9966e-04 - val_mae: 0.0190\n",
      "Epoch 100/100\n",
      "2/2 [==============================] - 0s 14ms/step - loss: 7.3714e-04 - mae: 0.0200 - val_loss: 3.8716e-04 - val_mae: 0.0182\n"
     ]
    }
   ],
   "source": [
    "hikaye = ysa.fit(X,y,epochs=100,validation_split=0.2)"
   ]
  },
  {
   "cell_type": "code",
   "execution_count": 17,
   "metadata": {},
   "outputs": [
    {
     "data": {
      "text/plain": [
       "array([[-0.94075186, -0.74111605],\n",
       "       [-0.80712233, -0.91827526]])"
      ]
     },
     "execution_count": 17,
     "metadata": {},
     "output_type": "execute_result"
    }
   ],
   "source": [
    "degerler=np.array([[3,8],[7,2]])\n",
    "\n",
    "# yukarıdaki ort ve std pandas veri tipidir.\n",
    "degerler_n=(degerler-ort.values[0:2])/std.values[0:2]\n",
    "\n",
    "degerler_n\n"
   ]
  },
  {
   "cell_type": "code",
   "execution_count": 18,
   "metadata": {},
   "outputs": [
    {
     "name": "stdout",
     "output_type": "stream",
     "text": [
      "1/1 [==============================] - 0s 43ms/step\n",
      "[[-0.9582789]\n",
      " [-0.913993 ]]\n"
     ]
    }
   ],
   "source": [
    "tahminler=ysa.predict(degerler_n)\n",
    "print(tahminler)"
   ]
  },
  {
   "cell_type": "code",
   "execution_count": 19,
   "metadata": {},
   "outputs": [
    {
     "name": "stdout",
     "output_type": "stream",
     "text": [
      "[[21.386154]\n",
      " [26.386223]]\n"
     ]
    }
   ],
   "source": [
    "tahminler_dn = tahminler*std.values[-1]+ort.values[-1]\n",
    "print(tahminler_dn)"
   ]
  }
 ],
 "metadata": {
  "kernelspec": {
   "display_name": "Python 3",
   "language": "python",
   "name": "python3"
  },
  "language_info": {
   "codemirror_mode": {
    "name": "ipython",
    "version": 3
   },
   "file_extension": ".py",
   "mimetype": "text/x-python",
   "name": "python",
   "nbconvert_exporter": "python",
   "pygments_lexer": "ipython3",
   "version": "3.10.12"
  }
 },
 "nbformat": 4,
 "nbformat_minor": 2
}
