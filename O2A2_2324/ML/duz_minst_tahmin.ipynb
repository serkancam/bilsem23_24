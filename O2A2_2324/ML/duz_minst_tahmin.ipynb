{
 "cells": [
  {
   "cell_type": "code",
   "execution_count": 44,
   "metadata": {},
   "outputs": [],
   "source": [
    "# duz_minst_tahmin.ipynb"
   ]
  },
  {
   "cell_type": "code",
   "execution_count": 45,
   "metadata": {},
   "outputs": [],
   "source": [
    "import keras\n",
    "import numpy as np \n",
    "import matplotlib.pyplot as plt \n",
    "import cv2\n",
    "# tahmin adımı\n",
    "model = keras.models.load_model(\"/home/serkan/Belgeler/bilsem23_24/O2A2_2324/ML/duz_mnist.h5\")"
   ]
  },
  {
   "cell_type": "code",
   "execution_count": 57,
   "metadata": {},
   "outputs": [
    {
     "name": "stdout",
     "output_type": "stream",
     "text": [
      "(265, 278, 3)\n",
      "(265, 278)\n",
      "(28, 28)\n"
     ]
    },
    {
     "data": {
      "image/png": "[encoded data removed]",
      "text/plain": [
       "<Figure size 640x480 with 1 Axes>"
      ]
     },
     "metadata": {},
     "output_type": "display_data"
    },
    {
     "name": "stdout",
     "output_type": "stream",
     "text": [
      "1/1 [==============================] - 0s 16ms/step\n",
      "tahmin: 3\n"
     ]
    }
   ],
   "source": [
    "\n",
    "resim = cv2.imread(\"/home/serkan/Belgeler/bilsem23_24/O2A2_2324/ML/r7.png\")\n",
    "print(resim.shape)\n",
    "# hedefimiz gri tonlamalı ve 28*28 piksellik bir dönüşüm yapacağız\n",
    "# resmi gri tonlamalıya dönüştürelim\n",
    "resim=cv2.GaussianBlur(resim,(5,5),1.0)\n",
    "resim_gri=cv2.cvtColor(resim,cv2.COLOR_BGR2GRAY)\n",
    "print(resim_gri.shape)\n",
    "# resmi 28*28 boyutuna getirelim\n",
    "resim_gri_28=cv2.resize(resim_gri,(28,28))\n",
    "print(resim_gri_28.shape)\n",
    "\n",
    "# plt.imshow(resim)\n",
    "# plt.show()\n",
    "\n",
    "# plt.imshow(resim_gri,cmap=\"gray\")\n",
    "# plt.show()\n",
    "\n",
    "plt.imshow(resim_gri_28,cmap=\"gray\")\n",
    "\n",
    "plt.show()\n",
    "\n",
    "\n",
    "resim_gri_28=resim_gri_28.reshape(1,28,28)\n",
    "tahmin=model.predict(resim_gri_28.astype(\"float32\")/255)\n",
    "print(\"tahmin:\",np.argmax(tahmin))\n",
    "# for i in range(10):\n",
    "#     print(f\"{i} için tahmin:{tahmin[0,i]}\")"
   ]
  }
 ],
 "metadata": {
  "kernelspec": {
   "display_name": "Python 3",
   "language": "python",
   "name": "python3"
  },
  "language_info": {
   "codemirror_mode": {
    "name": "ipython",
    "version": 3
   },
   "file_extension": ".py",
   "mimetype": "text/x-python",
   "name": "python",
   "nbconvert_exporter": "python",
   "pygments_lexer": "ipython3",
   "version": "3.10.12"
  }
 },
 "nbformat": 4,
 "nbformat_minor": 2
}
