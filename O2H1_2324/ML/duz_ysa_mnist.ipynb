{
 "cells": [
  {
   "cell_type": "code",
   "execution_count": null,
   "metadata": {},
   "outputs": [],
   "source": [
    "# duz_ysa_mnist.ipynb\n",
    "# flat, Dense katmanlı ysa da denir.\n",
    "# bu ysa modeli vektör(1D) girişleri alabilir."
   ]
  },
  {
   "cell_type": "code",
   "execution_count": null,
   "metadata": {},
   "outputs": [],
   "source": [
    "from keras.datasets import mnist\n",
    "\n",
    "(train_images,train_labels),(test_images,test_labels)=mnist.load_data()"
   ]
  },
  {
   "cell_type": "code",
   "execution_count": null,
   "metadata": {},
   "outputs": [],
   "source": [
    "print(train_images.shape)\n",
    "print(train_labels.shape)\n",
    "print(test_images.shape)\n",
    "print(test_labels.shape)"
   ]
  },
  {
   "cell_type": "code",
   "execution_count": null,
   "metadata": {},
   "outputs": [],
   "source": [
    "import matplotlib.pyplot as plt\n",
    "import numpy as np\n",
    "kayit=59988\n",
    "plt.imshow(train_images[kayit],cmap=\"gray\")\n",
    "plt.show()\n",
    "print(train_labels[kayit])"
   ]
  },
  {
   "cell_type": "code",
   "execution_count": null,
   "metadata": {},
   "outputs": [],
   "source": [
    "np.set_printoptions(linewidth=300)\n",
    "\n",
    "print(train_images[kayit])"
   ]
  },
  {
   "cell_type": "code",
   "execution_count": null,
   "metadata": {},
   "outputs": [],
   "source": [
    "# bu kod bloğu bir kere çalıştırılmalı\n",
    "\n",
    "\n",
    "train_images=train_images.astype(\"float32\")/255\n",
    "test_images=test_images.astype(\"float32\")/255\n",
    "# np.set_printoptions(linewidth=300)\n",
    "\n",
    "# print(train_images[kayit])\n",
    "\n"
   ]
  },
  {
   "cell_type": "code",
   "execution_count": null,
   "metadata": {},
   "outputs": [],
   "source": [
    "from keras.utils import to_categorical\n",
    "\n",
    "print(train_labels[0:3])\n",
    "print(test_labels[0:3])\n",
    "\n",
    "train_labels=to_categorical(train_labels)\n",
    "test_labels=to_categorical(test_labels)\n",
    "print(\"******\")\n",
    "print(train_labels[0:3])\n",
    "print()\n",
    "print(test_labels[0:3])"
   ]
  },
  {
   "attachments": {
    "image.png": {
     "image/png": "[encoded data removed]"
    }
   },
   "cell_type": "markdown",
   "metadata": {},
   "source": [
    "![image.png](attachment:image.png)"
   ]
  },
  {
   "cell_type": "code",
   "execution_count": null,
   "metadata": {},
   "outputs": [],
   "source": [
    "from keras.models import Sequential\n",
    "from keras.layers import Flatten,Dense\n",
    "from keras.callbacks import ModelCheckpoint\n",
    "\n",
    "model = Sequential()\n",
    "\n",
    "model.add(Flatten(input_shape=(28,28)))\n",
    "model.add(Dense(2500,activation=\"relu\"))# relu,softmax,sigmoid,tanh....\n",
    "model.add(Dense(2000,activation=\"relu\"))\n",
    "model.add(Dense(1500,activation=\"relu\"))\n",
    "model.add(Dense(1000,activation=\"relu\"))\n",
    "model.add(Dense(500,activation=\"relu\"))\n",
    "model.add(Dense(10,activation=\"softmax\"))\n",
    "\n",
    "model.compile(loss=\"categorical_crossentropy\",optimizer=\"rmsprop\",metrics=[\"accuracy\"])\n",
    "\n",
    "cp=ModelCheckpoint(\"mnist_duz.h5\",monitor=\"accuracy\",mode=\"max\",save_best_only=True)\n",
    "\n",
    "model.summary()"
   ]
  },
  {
   "cell_type": "code",
   "execution_count": null,
   "metadata": {},
   "outputs": [],
   "source": [
    "history=model.fit(train_images,train_labels,epochs=5,validation_split=0.2,callbacks=[cp])"
   ]
  },
  {
   "cell_type": "code",
   "execution_count": null,
   "metadata": {},
   "outputs": [],
   "source": [
    "sinav=model.evaluate(test_images,test_labels)\n",
    "print(f\"loss:{sinav[0]}--accuracy:{sinav[1]}\")"
   ]
  },
  {
   "cell_type": "code",
   "execution_count": null,
   "metadata": {},
   "outputs": [],
   "source": [
    "import matplotlib.pyplot as plt\n",
    "import numpy as np\n",
    "\n",
    "plt.plot(history.history[\"loss\"])\n",
    "plt.plot(history.history[\"val_loss\"])\n",
    "plt.title(\"model loss\")\n",
    "plt.xlabel(\"epochs\")\n",
    "plt.ylabel(\"loss\")\n",
    "plt.legend([\"train\",\"validation\"],loc=\"upper right\")\n",
    "plt.show()\n",
    "\n",
    "plt.plot(history.history[\"accuracy\"])\n",
    "plt.plot(history.history[\"val_accuracy\"])\n",
    "plt.title(\"model accuracy\")\n",
    "plt.xlabel(\"epochs\")\n",
    "plt.ylabel(\"accuracy\")\n",
    "plt.legend([\"train\",\"validation\"],loc=\"upper left\")\n",
    "plt.show()"
   ]
  },
  {
   "cell_type": "code",
   "execution_count": null,
   "metadata": {},
   "outputs": [],
   "source": [
    "secilen=78\n",
    "plt.imshow(test_images[secilen],cmap=\"gray\")\n",
    "plt.show()\n",
    "print(test_labels[secilen])\n",
    "#tahmin kısmı\n",
    "tahmin=model.predict(test_images[secilen].reshape(1,28,28))\n",
    "print(\"tahmin edilen rakam:\", np.argmax(tahmin))\n",
    "for i in range(10):\n",
    "    print(f\"{i} olma ihtimali tahmin:{tahmin[0,i]}\")"
   ]
  },
  {
   "cell_type": "code",
   "execution_count": 7,
   "metadata": {},
   "outputs": [
    {
     "data": {
      "image/png": "[encoded data removed]",
      "text/plain": [
       "<Figure size 640x480 with 1 Axes>"
      ]
     },
     "metadata": {},
     "output_type": "display_data"
    },
    {
     "name": "stdout",
     "output_type": "stream",
     "text": [
      "WARNING:tensorflow:5 out of the last 6 calls to <function Model.make_predict_function.<locals>.predict_function at 0x7fb614565630> triggered tf.function retracing. Tracing is expensive and the excessive number of tracings could be due to (1) creating @tf.function repeatedly in a loop, (2) passing tensors with different shapes, (3) passing Python objects instead of tensors. For (1), please define your @tf.function outside of the loop. For (2), @tf.function has reduce_retracing=True option that can avoid unnecessary retracing. For (3), please refer to https://www.tensorflow.org/guide/function#controlling_retracing and https://www.tensorflow.org/api_docs/python/tf/function for  more details.\n",
      "1/1 [==============================] - 0s 40ms/step\n",
      "8\n",
      "[[ 24  24  24  24  24  24  24  24  24  24  24  24  24  24  24  24  24  24\n",
      "   24  24  24  24  24  24  24  24  24  24]\n",
      " [ 24  24  24  24  24  24  24  24  24  24  24  24  24 255 255 255 255 246\n",
      "   24  24  24  24  24  24  24  24  24  24]\n",
      " [ 24  24  24  24  24  24  24  24  24  24  24 185 255 255 255 255 255 156\n",
      "   24  24  24  24  24  24  24  24  24  24]\n",
      " [ 24  24  24  24  24  24  24  24  24  24  46 255 255 255  24  24  24  24\n",
      "   24  24  24  24  24  24  24  24  24  24]\n",
      " [ 24  24  24  24  24  24  24  24  24  24 255 255 184  24  24  24  24  24\n",
      "   24  24  24  24  24  24  24  24  24  24]\n",
      " [ 24  24  24  24  24  24  24  24  24 253 255 251  24  24  24  24  24  24\n",
      "   24  24  24  24  24  24  24  24  24  24]\n",
      " [ 24  24  24  24  24  24  24  24  24 255 255  24  24  24  24  24  24  24\n",
      "   24  24  24  24  24  24  24  24  24  24]\n",
      " [ 24  24  24  24  24  24  24  24  70 255 255  24  24  24  24  24  24  24\n",
      "   24  24  24  24  24  24  24  24  24  24]\n",
      " [ 24  24  24  24  24  24  24  24 255 255  78  24  24  24  24  24  24  24\n",
      "   24  24  24  24  24  24  24  24  24  24]\n",
      " [ 24  24  24  24  24  24  24  24 255 255  24  24  24  24  24  24  24  24\n",
      "   24  24  24  24  24  24  24  24  24  24]\n",
      " [ 24  24  24  24  24  24  24  24 255 255  24  24  24  24  24  24  24  24\n",
      "   24  24  24  24  24  24  24  24  24  24]\n",
      " [ 24  24  24  24  24  24  24 141 255 247  24  24  24  24  24  24  24  24\n",
      "   24  24  24  24  24  24  24  24  24  24]\n",
      " [ 24  24  24  24  24  24  24 255 255  30  95 255 255 255  31  24  24  24\n",
      "   24  24  24  24  24  24  24  24  24  24]\n",
      " [ 24  24  24  24  24  24  24 255 255 255 255 255 255 255 255 255 242  24\n",
      "   24  24  24  24  24  24  24  24  24  24]\n",
      " [ 24  24  24  24  24  24  24 255 255 255 255 130  73 222 255 255 255 255\n",
      "   24  24  24  24  24  24  24  24  24  24]\n",
      " [ 24  24  24  24  24  24  24 255 255  24  24  24  24  24  24  24 255 255\n",
      "   32  24  24  24  24  24  24  24  24  24]\n",
      " [ 24  24  24  24  24  24  24 255 255  24  24  24  24  24  24  24 206 255\n",
      "  201  24  24  24  24  24  24  24  24  24]\n",
      " [ 24  24  24  24  24  24  24 255 255  24  24  24  24  24  24  24 255 255\n",
      "   47  24  24  24  24  24  24  24  24  24]\n",
      " [ 24  24  24  24  24  24  24 255 255  24  24  24  24  24  24  24 255 255\n",
      "   46  24  24  24  24  24  24  24  24  24]\n",
      " [ 24  24  24  24  24  24  24 255 255  24  24  24  24  24  24  24 255 255\n",
      "   24  24  24  24  24  24  24  24  24  24]\n",
      " [ 24  24  24  24  24  24  24 255 255  24  24  24  24  24  24  24 255 255\n",
      "   24  24  24  24  24  24  24  24  24  24]\n",
      " [ 24  24  24  24  24  24  24 255 255  24  24  24  24  24  24  24 255 255\n",
      "   24  24  24  24  24  24  24  24  24  24]\n",
      " [ 24  24  24  24  24  24  24 255 255  24  24  24  24  24  24  24 255 255\n",
      "   24  24  24  24  24  24  24  24  24  24]\n",
      " [ 24  24  24  24  24  24  24 255 255 254  24  24  24  24  24  35 255 255\n",
      "   24  24  24  24  24  24  24  24  24  24]\n",
      " [ 24  24  24  24  24  24  24  24 255 255 255  24  24  24 255 255 255  28\n",
      "   24  24  24  24  24  24  24  24  24  24]\n",
      " [ 24  24  24  24  24  24  24  24  47 255 255 255 255 255 255 255 216  24\n",
      "   24  24  24  24  24  24  24  24  24  24]\n",
      " [ 24  24  24  24  24  24  24  24  24  24 248 255 255 255 255  24  24  24\n",
      "   24  24  24  24  24  24  24  24  24  24]\n",
      " [ 24  24  24  24  24  24  24  24  24  24  24  24  24  24  24  24  24  24\n",
      "   24  24  24  24  24  24  24  24  24  24]]\n"
     ]
    }
   ],
   "source": [
    "import cv2\n",
    "import keras\n",
    "import matplotlib.pyplot as plt\n",
    "import numpy as np\n",
    "\n",
    "model=keras.models.load_model(\"/home/serkan/Belgeler/bilsem23_24/O2H1_2324/ML/mnist_duz.h5\")\n",
    "\n",
    "img = cv2.imread(\"/home/serkan/Belgeler/bilsem23_24/O2H1_2324/ML/rakam6.png\",cv2.IMREAD_GRAYSCALE)\n",
    "# img=cv2.cvtColor(img,cv2.COLOR_BGR2GRAY)\n",
    "img=cv2.resize(img,(28,28),interpolation=cv2.INTER_LINEAR)\n",
    "# \n",
    "# img[img<25]=0\n",
    "plt.imshow(img,cmap=\"gray\")\n",
    "plt.show()\n",
    "tahmin2=model.predict(img.reshape(1,28,28))\n",
    "print(np.argmax(tahmin2))\n",
    "print(img)\n",
    "# for i in range(10):\n",
    "#     print(f\"{i} olma ihtimali tahmin:{tahmin2[0,i]}\")"
   ]
  },
  {
   "cell_type": "code",
   "execution_count": 3,
   "metadata": {},
   "outputs": [
    {
     "name": "stdout",
     "output_type": "stream",
     "text": [
      "1/1 [==============================] - 0s 14ms/step\n",
      "3\n"
     ]
    }
   ],
   "source": [
    "tahmin2=model.predict(img.reshape(1,28,28))\n",
    "print(np.argmax(tahmin2))"
   ]
  }
 ],
 "metadata": {
  "kernelspec": {
   "display_name": "Python 3",
   "language": "python",
   "name": "python3"
  },
  "language_info": {
   "codemirror_mode": {
    "name": "ipython",
    "version": 3
   },
   "file_extension": ".py",
   "mimetype": "text/x-python",
   "name": "python",
   "nbconvert_exporter": "python",
   "pygments_lexer": "ipython3",
   "version": "3.10.12"
  }
 },
 "nbformat": 4,
 "nbformat_minor": 2
}
