{
 "cells": [
  {
   "cell_type": "code",
   "execution_count": 1,
   "metadata": {},
   "outputs": [
    {
     "name": "stderr",
     "output_type": "stream",
     "text": [
      "2023-12-09 11:59:42.024638: I tensorflow/core/util/port.cc:111] oneDNN custom operations are on. You may see slightly different numerical results due to floating-point round-off errors from different computation orders. To turn them off, set the environment variable `TF_ENABLE_ONEDNN_OPTS=0`.\n",
      "2023-12-09 11:59:42.025931: I tensorflow/tsl/cuda/cudart_stub.cc:28] Could not find cuda drivers on your machine, GPU will not be used.\n",
      "2023-12-09 11:59:42.048811: E tensorflow/compiler/xla/stream_executor/cuda/cuda_dnn.cc:9342] Unable to register cuDNN factory: Attempting to register factory for plugin cuDNN when one has already been registered\n",
      "2023-12-09 11:59:42.048839: E tensorflow/compiler/xla/stream_executor/cuda/cuda_fft.cc:609] Unable to register cuFFT factory: Attempting to register factory for plugin cuFFT when one has already been registered\n",
      "2023-12-09 11:59:42.048853: E tensorflow/compiler/xla/stream_executor/cuda/cuda_blas.cc:1518] Unable to register cuBLAS factory: Attempting to register factory for plugin cuBLAS when one has already been registered\n",
      "2023-12-09 11:59:42.053038: I tensorflow/tsl/cuda/cudart_stub.cc:28] Could not find cuda drivers on your machine, GPU will not be used.\n",
      "2023-12-09 11:59:42.053717: I tensorflow/core/platform/cpu_feature_guard.cc:182] This TensorFlow binary is optimized to use available CPU instructions in performance-critical operations.\n",
      "To enable the following instructions: AVX2 AVX_VNNI FMA, in other operations, rebuild TensorFlow with the appropriate compiler flags.\n",
      "2023-12-09 11:59:42.532997: W tensorflow/compiler/tf2tensorrt/utils/py_utils.cc:38] TF-TRT Warning: Could not find TensorRT\n"
     ]
    }
   ],
   "source": [
    "import numpy as np\n",
    "import keras\n",
    "from keras import layers\n"
   ]
  },
  {
   "cell_type": "code",
   "execution_count": 2,
   "metadata": {},
   "outputs": [
    {
     "name": "stdout",
     "output_type": "stream",
     "text": [
      "x_train shape: (60000, 28, 28, 1)\n",
      "60000 train samples\n",
      "10000 test samples\n"
     ]
    }
   ],
   "source": [
    "# Model / data parameters\n",
    "num_classes = 10\n",
    "input_shape = (28, 28, 1)\n",
    "\n",
    "# Load the data and split it between train and test sets\n",
    "(x_train, y_train), (x_test, y_test) = keras.datasets.mnist.load_data()\n",
    "\n",
    "# Scale images to the [0, 1] range\n",
    "x_train = x_train.astype(\"float32\") / 255\n",
    "x_test = x_test.astype(\"float32\") / 255\n",
    "# Make sure images have shape (28, 28, 1)\n",
    "x_train = np.expand_dims(x_train, -1)\n",
    "x_test = np.expand_dims(x_test, -1)\n",
    "print(\"x_train shape:\", x_train.shape)\n",
    "print(x_train.shape[0], \"train samples\")\n",
    "print(x_test.shape[0], \"test samples\")\n",
    "\n",
    "\n",
    "# convert class vectors to binary class matrices\n",
    "y_train = keras.utils.to_categorical(y_train, num_classes)\n",
    "y_test = keras.utils.to_categorical(y_test, num_classes)\n"
   ]
  },
  {
   "cell_type": "code",
   "execution_count": 3,
   "metadata": {},
   "outputs": [
    {
     "name": "stdout",
     "output_type": "stream",
     "text": [
      "Model: \"sequential\"\n",
      "_________________________________________________________________\n",
      " Layer (type)                Output Shape              Param #   \n",
      "=================================================================\n",
      " conv2d (Conv2D)             (None, 26, 26, 128)       1280      \n",
      "                                                                 \n",
      " max_pooling2d (MaxPooling2  (None, 13, 13, 128)       0         \n",
      " D)                                                              \n",
      "                                                                 \n",
      " conv2d_1 (Conv2D)           (None, 11, 11, 64)        73792     \n",
      "                                                                 \n",
      " max_pooling2d_1 (MaxPoolin  (None, 5, 5, 64)          0         \n",
      " g2D)                                                            \n",
      "                                                                 \n",
      " conv2d_2 (Conv2D)           (None, 3, 3, 32)          18464     \n",
      "                                                                 \n",
      " max_pooling2d_2 (MaxPoolin  (None, 1, 1, 32)          0         \n",
      " g2D)                                                            \n",
      "                                                                 \n",
      " flatten (Flatten)           (None, 32)                0         \n",
      "                                                                 \n",
      " dropout (Dropout)           (None, 32)                0         \n",
      "                                                                 \n",
      " dense (Dense)               (None, 32)                1056      \n",
      "                                                                 \n",
      " dense_1 (Dense)             (None, 10)                330       \n",
      "                                                                 \n",
      "=================================================================\n",
      "Total params: 94922 (370.79 KB)\n",
      "Trainable params: 94922 (370.79 KB)\n",
      "Non-trainable params: 0 (0.00 Byte)\n",
      "_________________________________________________________________\n"
     ]
    },
    {
     "name": "stderr",
     "output_type": "stream",
     "text": [
      "2023-12-09 11:59:43.280143: I tensorflow/compiler/xla/stream_executor/cuda/cuda_gpu_executor.cc:894] successful NUMA node read from SysFS had negative value (-1), but there must be at least one NUMA node, so returning NUMA node zero. See more at https://github.com/torvalds/linux/blob/v6.0/Documentation/ABI/testing/sysfs-bus-pci#L344-L355\n",
      "2023-12-09 11:59:43.280440: W tensorflow/core/common_runtime/gpu/gpu_device.cc:2211] Cannot dlopen some GPU libraries. Please make sure the missing libraries mentioned above are installed properly if you would like to use GPU. Follow the guide at https://www.tensorflow.org/install/gpu for how to download and setup the required libraries for your platform.\n",
      "Skipping registering GPU devices...\n"
     ]
    }
   ],
   "source": [
    "model = keras.Sequential(\n",
    "    [\n",
    "        keras.Input(shape=input_shape),\n",
    "        layers.Conv2D(128, kernel_size=(3, 3), activation=\"relu\"),\n",
    "        layers.MaxPooling2D(pool_size=(2, 2)),\n",
    "        layers.Conv2D(64, kernel_size=(3, 3), activation=\"relu\"),\n",
    "        layers.MaxPooling2D(pool_size=(2, 2)),\n",
    "        layers.Conv2D(32, kernel_size=(3, 3), activation=\"relu\"),\n",
    "        layers.MaxPooling2D(pool_size=(2, 2)),\n",
    "        layers.Flatten(),\n",
    "        layers.Dropout(0.5),\n",
    "        layers.Dense(32,activation=\"relu\"),\n",
    "        layers.Dense(num_classes, activation=\"softmax\"),\n",
    "    ]\n",
    ")\n",
    "\n",
    "model.summary()\n"
   ]
  },
  {
   "cell_type": "code",
   "execution_count": 4,
   "metadata": {},
   "outputs": [
    {
     "name": "stdout",
     "output_type": "stream",
     "text": [
      "Epoch 1/10\n",
      "422/422 [==============================] - 20s 47ms/step - loss: 0.9084 - accuracy: 0.6848 - val_loss: 0.1601 - val_accuracy: 0.9590\n",
      "Epoch 2/10\n",
      "422/422 [==============================] - 20s 47ms/step - loss: 0.4275 - accuracy: 0.8574 - val_loss: 0.1170 - val_accuracy: 0.9685\n",
      "Epoch 3/10\n",
      "422/422 [==============================] - 20s 47ms/step - loss: 0.3368 - accuracy: 0.8891 - val_loss: 0.0949 - val_accuracy: 0.9755\n",
      "Epoch 4/10\n",
      "422/422 [==============================] - 20s 48ms/step - loss: 0.2868 - accuracy: 0.9066 - val_loss: 0.0906 - val_accuracy: 0.9748\n",
      "Epoch 5/10\n",
      "422/422 [==============================] - 21s 49ms/step - loss: 0.2602 - accuracy: 0.9150 - val_loss: 0.0749 - val_accuracy: 0.9807\n",
      "Epoch 6/10\n",
      "422/422 [==============================] - 21s 49ms/step - loss: 0.2384 - accuracy: 0.9221 - val_loss: 0.0729 - val_accuracy: 0.9825\n",
      "Epoch 7/10\n",
      "422/422 [==============================] - 20s 48ms/step - loss: 0.2200 - accuracy: 0.9282 - val_loss: 0.0708 - val_accuracy: 0.9827\n",
      "Epoch 8/10\n",
      "422/422 [==============================] - 21s 49ms/step - loss: 0.2126 - accuracy: 0.9302 - val_loss: 0.0670 - val_accuracy: 0.9830\n",
      "Epoch 9/10\n",
      "422/422 [==============================] - 21s 49ms/step - loss: 0.1965 - accuracy: 0.9350 - val_loss: 0.0724 - val_accuracy: 0.9842\n",
      "Epoch 10/10\n",
      "422/422 [==============================] - 20s 48ms/step - loss: 0.1878 - accuracy: 0.9388 - val_loss: 0.0706 - val_accuracy: 0.9830\n"
     ]
    },
    {
     "data": {
      "text/plain": [
       "<keras.src.callbacks.History at 0x7fa7b8a063b0>"
      ]
     },
     "execution_count": 4,
     "metadata": {},
     "output_type": "execute_result"
    }
   ],
   "source": [
    "batch_size = 128\n",
    "epochs = 10\n",
    "\n",
    "model.compile(loss=\"categorical_crossentropy\", optimizer=\"adam\", metrics=[\"accuracy\"])\n",
    "\n",
    "model.fit(x_train, y_train, batch_size=batch_size, epochs=epochs, validation_split=0.1)\n"
   ]
  },
  {
   "cell_type": "code",
   "execution_count": 9,
   "metadata": {},
   "outputs": [
    {
     "name": "stdout",
     "output_type": "stream",
     "text": [
      "(215, 257, 4)\n",
      "1/1 [==============================] - 0s 11ms/step\n",
      "2\n",
      "0 olma ihtimali tahmin:0.0\n",
      "1 olma ihtimali tahmin:0.0\n",
      "2 olma ihtimali tahmin:1.0\n",
      "3 olma ihtimali tahmin:0.0\n",
      "4 olma ihtimali tahmin:0.0\n",
      "5 olma ihtimali tahmin:0.0\n",
      "6 olma ihtimali tahmin:0.0\n",
      "7 olma ihtimali tahmin:0.0\n",
      "8 olma ihtimali tahmin:0.0\n",
      "9 olma ihtimali tahmin:0.0\n"
     ]
    }
   ],
   "source": [
    "import cv2\n",
    "import matplotlib.pyplot as plt\n",
    "import numpy as np\n",
    "\n",
    "\n",
    "\n",
    "img = cv2.imread(\"/home/serkan/Belgeler/bilsem23_24/O2H1_2324/ML/rakamx.png\",cv2.IMREAD_UNCHANGED)\n",
    "print(img.shape)\n",
    "img=cv2.GaussianBlur(img,(3,3),cv2.BORDER_DEFAULT)\n",
    "img=cv2.cvtColor(img,cv2.COLOR_BGRA2GRAY)\n",
    "img=cv2.resize(img,(28,28),interpolation=cv2.INTER_LINEAR)\n",
    "# \n",
    "img[img<25]=0\n",
    "# plt.imshow(img,cmap=\"gray\")\n",
    "# plt.show()\n",
    "tahmin2=model.predict(img.reshape(1,28,28))\n",
    "print(np.argmax(tahmin2))\n",
    "\n",
    "for i in range(10):\n",
    "    print(f\"{i} olma ihtimali tahmin:{tahmin2[0,i]}\")"
   ]
  }
 ],
 "metadata": {
  "kernelspec": {
   "display_name": "Python 3",
   "language": "python",
   "name": "python3"
  },
  "language_info": {
   "codemirror_mode": {
    "name": "ipython",
    "version": 3
   },
   "file_extension": ".py",
   "mimetype": "text/x-python",
   "name": "python",
   "nbconvert_exporter": "python",
   "pygments_lexer": "ipython3",
   "version": "3.10.12"
  }
 },
 "nbformat": 4,
 "nbformat_minor": 2
}
