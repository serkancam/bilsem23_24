{
 "cells": [
  {
   "cell_type": "code",
   "execution_count": null,
   "metadata": {},
   "outputs": [],
   "source": [
    "# ev_fiyatlari.ipynb\n",
    "import pandas as pd\n",
    "import numpy as np\n",
    "import matplotlib.pyplot as plt\n",
    "import seaborn as sns"
   ]
  },
  {
   "cell_type": "code",
   "execution_count": null,
   "metadata": {},
   "outputs": [],
   "source": [
    "veri = pd.read_csv(\"istanbul-ev-fiyatlari.csv\")\n",
    "veri.head(5)"
   ]
  },
  {
   "cell_type": "code",
   "execution_count": null,
   "metadata": {},
   "outputs": [],
   "source": [
    "veri.info()"
   ]
  },
  {
   "cell_type": "code",
   "execution_count": null,
   "metadata": {},
   "outputs": [],
   "source": [
    "veri.columns"
   ]
  },
  {
   "cell_type": "code",
   "execution_count": null,
   "metadata": {},
   "outputs": [],
   "source": [
    "veri_ham=veri.copy()"
   ]
  },
  {
   "cell_type": "code",
   "execution_count": null,
   "metadata": {},
   "outputs": [],
   "source": [
    "veri = veri.drop(columns=['Unnamed: 0','AdUpdateDate'])"
   ]
  },
  {
   "cell_type": "code",
   "execution_count": null,
   "metadata": {},
   "outputs": [],
   "source": [
    "veri.info()"
   ]
  },
  {
   "cell_type": "code",
   "execution_count": null,
   "metadata": {},
   "outputs": [],
   "source": [
    "veri.columns"
   ]
  },
  {
   "cell_type": "code",
   "execution_count": null,
   "metadata": {},
   "outputs": [],
   "source": [
    "veri=veri.rename(columns={\n",
    "    'district':\"ilce\", \n",
    "    'price':\"fiyat\", \n",
    "    'GrossSquareMeters':\"brutm2\", \n",
    "    'BuildingAge':\"yas\",\n",
    "    'NumberFloorsofBuilding':\"kat_sayisi\", \n",
    "    'NumberOfRooms':\"oda_sayisi\",\n",
    "    'FloorLocation':\"kat\",\n",
    "    'CreditEligibility':\"kredi\",\n",
    "    'NetSquareMeters':\"netm2\", \n",
    "    'kategori':\"tip\"\n",
    "})"
   ]
  },
  {
   "cell_type": "code",
   "execution_count": null,
   "metadata": {},
   "outputs": [],
   "source": [
    "veri.head(5)"
   ]
  },
  {
   "cell_type": "code",
   "execution_count": null,
   "metadata": {},
   "outputs": [],
   "source": [
    "veri[\"ilce\"].unique()"
   ]
  },
  {
   "cell_type": "code",
   "execution_count": null,
   "metadata": {},
   "outputs": [],
   "source": [
    "veri[\"ilce\"].value_counts()"
   ]
  },
  {
   "cell_type": "code",
   "execution_count": null,
   "metadata": {},
   "outputs": [],
   "source": [
    "veri[\"kredi\"].value_counts()"
   ]
  },
  {
   "cell_type": "code",
   "execution_count": null,
   "metadata": {},
   "outputs": [],
   "source": [
    "veri[\"kredi\"]=veri[\"kredi\"].str.replace(\"Krediye Uygun Değil\",\"değil\")\n",
    "veri[\"kredi\"]=veri[\"kredi\"].str.replace(\"Krediye Uygun\",\"uygun\")\n",
    "veri[\"kredi\"]=veri[\"kredi\"].str.lower()\n",
    "veri[\"kredi\"].value_counts()"
   ]
  },
  {
   "cell_type": "code",
   "execution_count": null,
   "metadata": {},
   "outputs": [],
   "source": [
    "veri.groupby(\"ilce\")[\"fiyat\"].mean()"
   ]
  },
  {
   "cell_type": "code",
   "execution_count": 70,
   "metadata": {},
   "outputs": [
    {
     "data": {
      "text/html": [
       "<div>\n",
       "<style scoped>\n",
       "    .dataframe tbody tr th:only-of-type {\n",
       "        vertical-align: middle;\n",
       "    }\n",
       "\n",
       "    .dataframe tbody tr th {\n",
       "        vertical-align: top;\n",
       "    }\n",
       "\n",
       "    .dataframe thead th {\n",
       "        text-align: right;\n",
       "    }\n",
       "</style>\n",
       "<table border=\"1\" class=\"dataframe\">\n",
       "  <thead>\n",
       "    <tr style=\"text-align: right;\">\n",
       "      <th></th>\n",
       "      <th>ilce</th>\n",
       "      <th>fiyat</th>\n",
       "      <th>brutm2</th>\n",
       "      <th>yas</th>\n",
       "      <th>kat_sayisi</th>\n",
       "      <th>oda_sayisi</th>\n",
       "      <th>kat</th>\n",
       "      <th>kredi</th>\n",
       "      <th>netm2</th>\n",
       "      <th>tip</th>\n",
       "    </tr>\n",
       "  </thead>\n",
       "  <tbody>\n",
       "    <tr>\n",
       "      <th>24347</th>\n",
       "      <td>uskudar</td>\n",
       "      <td>2350000.0</td>\n",
       "      <td>170.0</td>\n",
       "      <td>5</td>\n",
       "      <td>2</td>\n",
       "      <td>4+1</td>\n",
       "      <td>2. Kat</td>\n",
       "      <td>uygun</td>\n",
       "      <td>150.0</td>\n",
       "      <td>Daire</td>\n",
       "    </tr>\n",
       "    <tr>\n",
       "      <th>24348</th>\n",
       "      <td>uskudar</td>\n",
       "      <td>750000.0</td>\n",
       "      <td>80.0</td>\n",
       "      <td>21</td>\n",
       "      <td>4</td>\n",
       "      <td>2+1</td>\n",
       "      <td>4. Kat</td>\n",
       "      <td>uygun</td>\n",
       "      <td>75.0</td>\n",
       "      <td>Daire</td>\n",
       "    </tr>\n",
       "    <tr>\n",
       "      <th>24350</th>\n",
       "      <td>uskudar</td>\n",
       "      <td>1625000.0</td>\n",
       "      <td>110.0</td>\n",
       "      <td>0</td>\n",
       "      <td>4</td>\n",
       "      <td>2+2</td>\n",
       "      <td>Bahçe Dublex</td>\n",
       "      <td>uygun</td>\n",
       "      <td>100.0</td>\n",
       "      <td>Daire</td>\n",
       "    </tr>\n",
       "    <tr>\n",
       "      <th>24351</th>\n",
       "      <td>uskudar</td>\n",
       "      <td>1950000.0</td>\n",
       "      <td>140.0</td>\n",
       "      <td>5</td>\n",
       "      <td>5</td>\n",
       "      <td>3+1</td>\n",
       "      <td>1. Kat</td>\n",
       "      <td>uygun</td>\n",
       "      <td>130.0</td>\n",
       "      <td>Daire</td>\n",
       "    </tr>\n",
       "    <tr>\n",
       "      <th>24352</th>\n",
       "      <td>uskudar</td>\n",
       "      <td>1085000.0</td>\n",
       "      <td>110.0</td>\n",
       "      <td>21</td>\n",
       "      <td>5</td>\n",
       "      <td>2+1</td>\n",
       "      <td>Yüksek Giriş</td>\n",
       "      <td>uygun</td>\n",
       "      <td>90.0</td>\n",
       "      <td>Daire</td>\n",
       "    </tr>\n",
       "  </tbody>\n",
       "</table>\n",
       "</div>"
      ],
      "text/plain": [
       "          ilce      fiyat  brutm2  yas  kat_sayisi oda_sayisi           kat  \\\n",
       "24347  uskudar  2350000.0   170.0    5           2        4+1        2. Kat   \n",
       "24348  uskudar   750000.0    80.0   21           4        2+1        4. Kat   \n",
       "24350  uskudar  1625000.0   110.0    0           4        2+2  Bahçe Dublex   \n",
       "24351  uskudar  1950000.0   140.0    5           5        3+1        1. Kat   \n",
       "24352  uskudar  1085000.0   110.0   21           5        2+1  Yüksek Giriş   \n",
       "\n",
       "       kredi  netm2     tip  \n",
       "24347  uygun  150.0   Daire  \n",
       "24348  uygun   75.0   Daire  \n",
       "24350  uygun  100.0   Daire  \n",
       "24351  uygun  130.0   Daire  \n",
       "24352  uygun   90.0   Daire  "
      ]
     },
     "execution_count": 70,
     "metadata": {},
     "output_type": "execute_result"
    }
   ],
   "source": [
    "uskudar_ev=veri[(veri[\"ilce\"]==\"uskudar\") & (veri[\"fiyat\"]<10_000_000)]\n",
    "uskudar_ev.head(5)"
   ]
  },
  {
   "cell_type": "code",
   "execution_count": null,
   "metadata": {},
   "outputs": [],
   "source": [
    "sns.histplot(data=uskudar_ev,x=\"yas\",bins=5,color=\"skyblue\")\n",
    "plt.show()"
   ]
  },
  {
   "cell_type": "code",
   "execution_count": null,
   "metadata": {},
   "outputs": [],
   "source": [
    "veri[\"fiyat\"]=veri[\"fiyat\"].astype(\"float64\")\n",
    "sns.histplot(data=uskudar_ev,x=\"fiyat\",bins=10,color=\"skyblue\")\n",
    "plt.show()"
   ]
  },
  {
   "cell_type": "code",
   "execution_count": 74,
   "metadata": {},
   "outputs": [],
   "source": [
    "veri.to_csv(\"istanbul_ev_fiyat_son.csv\")"
   ]
  }
 ],
 "metadata": {
  "kernelspec": {
   "display_name": "Python 3",
   "language": "python",
   "name": "python3"
  },
  "language_info": {
   "codemirror_mode": {
    "name": "ipython",
    "version": 3
   },
   "file_extension": ".py",
   "mimetype": "text/x-python",
   "name": "python",
   "nbconvert_exporter": "python",
   "pygments_lexer": "ipython3",
   "version": "3.10.12"
  }
 },
 "nbformat": 4,
 "nbformat_minor": 2
}
