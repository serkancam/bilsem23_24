{
 "cells": [
  {
   "cell_type": "code",
   "execution_count": 1,
   "metadata": {},
   "outputs": [],
   "source": [
    "import pandas as pd"
   ]
  },
  {
   "cell_type": "code",
   "execution_count": 2,
   "metadata": {},
   "outputs": [
    {
     "data": {
      "text/html": [
       "<div>\n",
       "<style scoped>\n",
       "    .dataframe tbody tr th:only-of-type {\n",
       "        vertical-align: middle;\n",
       "    }\n",
       "\n",
       "    .dataframe tbody tr th {\n",
       "        vertical-align: top;\n",
       "    }\n",
       "\n",
       "    .dataframe thead th {\n",
       "        text-align: right;\n",
       "    }\n",
       "</style>\n",
       "<table border=\"1\" class=\"dataframe\">\n",
       "  <thead>\n",
       "    <tr style=\"text-align: right;\">\n",
       "      <th></th>\n",
       "      <th>yas</th>\n",
       "      <th>cinsiyet</th>\n",
       "      <th>gogus_agrisi_tipi</th>\n",
       "      <th>hareketsiz_kan_basinci</th>\n",
       "      <th>serum_kolestrol</th>\n",
       "      <th>aclik_kan_sekeri</th>\n",
       "      <th>elektrokardiyografi</th>\n",
       "      <th>en_yuksek_kalp_hizi</th>\n",
       "      <th>anjin_bagli_egsersiz</th>\n",
       "      <th>st_depresyonu</th>\n",
       "      <th>st_egimi</th>\n",
       "      <th>buyuk_damarlar</th>\n",
       "      <th>talasemi</th>\n",
       "      <th>kalp_rahatsizligi</th>\n",
       "    </tr>\n",
       "  </thead>\n",
       "  <tbody>\n",
       "    <tr>\n",
       "      <th>0</th>\n",
       "      <td>63.0</td>\n",
       "      <td>erkek</td>\n",
       "      <td>tipik anjinal</td>\n",
       "      <td>145.0</td>\n",
       "      <td>233.0</td>\n",
       "      <td>1</td>\n",
       "      <td>sol ventikuler hipertrofi</td>\n",
       "      <td>150.0</td>\n",
       "      <td>0</td>\n",
       "      <td>2.3</td>\n",
       "      <td>asagi egimli</td>\n",
       "      <td>0.0</td>\n",
       "      <td>sabit defekt</td>\n",
       "      <td>0</td>\n",
       "    </tr>\n",
       "    <tr>\n",
       "      <th>1</th>\n",
       "      <td>67.0</td>\n",
       "      <td>erkek</td>\n",
       "      <td>asemptomatik</td>\n",
       "      <td>160.0</td>\n",
       "      <td>286.0</td>\n",
       "      <td>0</td>\n",
       "      <td>sol ventikuler hipertrofi</td>\n",
       "      <td>108.0</td>\n",
       "      <td>1</td>\n",
       "      <td>1.5</td>\n",
       "      <td>duz</td>\n",
       "      <td>3.0</td>\n",
       "      <td>normal</td>\n",
       "      <td>1</td>\n",
       "    </tr>\n",
       "    <tr>\n",
       "      <th>2</th>\n",
       "      <td>67.0</td>\n",
       "      <td>erkek</td>\n",
       "      <td>asemptomatik</td>\n",
       "      <td>120.0</td>\n",
       "      <td>229.0</td>\n",
       "      <td>0</td>\n",
       "      <td>sol ventikuler hipertrofi</td>\n",
       "      <td>129.0</td>\n",
       "      <td>1</td>\n",
       "      <td>2.6</td>\n",
       "      <td>duz</td>\n",
       "      <td>2.0</td>\n",
       "      <td>tersinir defekt</td>\n",
       "      <td>1</td>\n",
       "    </tr>\n",
       "  </tbody>\n",
       "</table>\n",
       "</div>"
      ],
      "text/plain": [
       "    yas cinsiyet gogus_agrisi_tipi  hareketsiz_kan_basinci  serum_kolestrol  \\\n",
       "0  63.0    erkek     tipik anjinal                   145.0            233.0   \n",
       "1  67.0    erkek      asemptomatik                   160.0            286.0   \n",
       "2  67.0    erkek      asemptomatik                   120.0            229.0   \n",
       "\n",
       "   aclik_kan_sekeri        elektrokardiyografi  en_yuksek_kalp_hizi  \\\n",
       "0                 1  sol ventikuler hipertrofi                150.0   \n",
       "1                 0  sol ventikuler hipertrofi                108.0   \n",
       "2                 0  sol ventikuler hipertrofi                129.0   \n",
       "\n",
       "   anjin_bagli_egsersiz  st_depresyonu      st_egimi  buyuk_damarlar  \\\n",
       "0                     0            2.3  asagi egimli             0.0   \n",
       "1                     1            1.5           duz             3.0   \n",
       "2                     1            2.6           duz             2.0   \n",
       "\n",
       "          talasemi  kalp_rahatsizligi  \n",
       "0     sabit defekt                  0  \n",
       "1           normal                  1  \n",
       "2  tersinir defekt                  1  "
      ]
     },
     "execution_count": 2,
     "metadata": {},
     "output_type": "execute_result"
    }
   ],
   "source": [
    "veri_ham = pd.read_csv(\"vm_dosyalar/kalp_rahatsizligi.csv\")\n",
    "veri_ham.head(3)"
   ]
  },
  {
   "cell_type": "code",
   "execution_count": 3,
   "metadata": {},
   "outputs": [
    {
     "name": "stdout",
     "output_type": "stream",
     "text": [
      "<class 'pandas.core.frame.DataFrame'>\n",
      "RangeIndex: 303 entries, 0 to 302\n",
      "Data columns (total 14 columns):\n",
      " #   Column                  Non-Null Count  Dtype  \n",
      "---  ------                  --------------  -----  \n",
      " 0   yas                     303 non-null    float64\n",
      " 1   cinsiyet                303 non-null    object \n",
      " 2   gogus_agrisi_tipi       303 non-null    object \n",
      " 3   hareketsiz_kan_basinci  303 non-null    float64\n",
      " 4   serum_kolestrol         303 non-null    float64\n",
      " 5   aclik_kan_sekeri        303 non-null    int64  \n",
      " 6   elektrokardiyografi     303 non-null    object \n",
      " 7   en_yuksek_kalp_hizi     303 non-null    float64\n",
      " 8   anjin_bagli_egsersiz    303 non-null    int64  \n",
      " 9   st_depresyonu           303 non-null    float64\n",
      " 10  st_egimi                303 non-null    object \n",
      " 11  buyuk_damarlar          299 non-null    float64\n",
      " 12  talasemi                301 non-null    object \n",
      " 13  kalp_rahatsizligi       303 non-null    int64  \n",
      "dtypes: float64(6), int64(3), object(5)\n",
      "memory usage: 33.3+ KB\n"
     ]
    }
   ],
   "source": [
    "veri_ham.info()"
   ]
  },
  {
   "cell_type": "code",
   "execution_count": 4,
   "metadata": {},
   "outputs": [],
   "source": [
    "veri=veri_ham.copy()"
   ]
  },
  {
   "cell_type": "code",
   "execution_count": 5,
   "metadata": {},
   "outputs": [
    {
     "name": "stdout",
     "output_type": "stream",
     "text": [
      "<class 'pandas.core.frame.DataFrame'>\n",
      "RangeIndex: 303 entries, 0 to 302\n",
      "Data columns (total 12 columns):\n",
      " #   Column                  Non-Null Count  Dtype  \n",
      "---  ------                  --------------  -----  \n",
      " 0   yas                     303 non-null    float64\n",
      " 1   cinsiyet                303 non-null    object \n",
      " 2   gogus_agrisi_tipi       303 non-null    object \n",
      " 3   hareketsiz_kan_basinci  303 non-null    float64\n",
      " 4   serum_kolestrol         303 non-null    float64\n",
      " 5   aclik_kan_sekeri        303 non-null    int64  \n",
      " 6   elektrokardiyografi     303 non-null    object \n",
      " 7   en_yuksek_kalp_hizi     303 non-null    float64\n",
      " 8   anjin_bagli_egsersiz    303 non-null    int64  \n",
      " 9   st_depresyonu           303 non-null    float64\n",
      " 10  st_egimi                303 non-null    object \n",
      " 11  kalp_rahatsizligi       303 non-null    int64  \n",
      "dtypes: float64(5), int64(3), object(4)\n",
      "memory usage: 28.5+ KB\n"
     ]
    }
   ],
   "source": [
    "#dropna(değeri olmayanı at)\n",
    "#axis eksen(0:satırlari,1:sütunlar)\n",
    "veri2=veri.dropna(axis=1)#boş veri olan sütunlar atıldı.\n",
    "veri2.info()\n"
   ]
  },
  {
   "cell_type": "code",
   "execution_count": 6,
   "metadata": {},
   "outputs": [
    {
     "name": "stdout",
     "output_type": "stream",
     "text": [
      "<class 'pandas.core.frame.DataFrame'>\n",
      "Index: 297 entries, 0 to 301\n",
      "Data columns (total 14 columns):\n",
      " #   Column                  Non-Null Count  Dtype  \n",
      "---  ------                  --------------  -----  \n",
      " 0   yas                     297 non-null    float64\n",
      " 1   cinsiyet                297 non-null    object \n",
      " 2   gogus_agrisi_tipi       297 non-null    object \n",
      " 3   hareketsiz_kan_basinci  297 non-null    float64\n",
      " 4   serum_kolestrol         297 non-null    float64\n",
      " 5   aclik_kan_sekeri        297 non-null    int64  \n",
      " 6   elektrokardiyografi     297 non-null    object \n",
      " 7   en_yuksek_kalp_hizi     297 non-null    float64\n",
      " 8   anjin_bagli_egsersiz    297 non-null    int64  \n",
      " 9   st_depresyonu           297 non-null    float64\n",
      " 10  st_egimi                297 non-null    object \n",
      " 11  buyuk_damarlar          297 non-null    float64\n",
      " 12  talasemi                297 non-null    object \n",
      " 13  kalp_rahatsizligi       297 non-null    int64  \n",
      "dtypes: float64(6), int64(3), object(5)\n",
      "memory usage: 34.8+ KB\n"
     ]
    }
   ],
   "source": [
    "veri3=veri.dropna(axis=0)\n",
    "veri3.info()"
   ]
  },
  {
   "cell_type": "code",
   "execution_count": 7,
   "metadata": {},
   "outputs": [],
   "source": [
    "from sklearn.impute import SimpleImputer\n",
    "from sklearn.preprocessing import minmax_scale\n",
    "from sklearn.preprocessing import LabelEncoder\n",
    "import numpy as np"
   ]
  },
  {
   "cell_type": "code",
   "execution_count": 8,
   "metadata": {},
   "outputs": [],
   "source": [
    "# eksik veri problemininin yerine değer atanarak giderilmesi\n",
    "imp_sayisal=SimpleImputer(missing_values=np.nan,strategy=\"median\")\n",
    "imp_kategorik=SimpleImputer(missing_values=np.nan,strategy=\"most_frequent\")"
   ]
  },
  {
   "cell_type": "code",
   "execution_count": 9,
   "metadata": {},
   "outputs": [
    {
     "name": "stdout",
     "output_type": "stream",
     "text": [
      "<class 'pandas.core.frame.DataFrame'>\n",
      "RangeIndex: 303 entries, 0 to 302\n",
      "Data columns (total 14 columns):\n",
      " #   Column                  Non-Null Count  Dtype  \n",
      "---  ------                  --------------  -----  \n",
      " 0   yas                     303 non-null    float64\n",
      " 1   cinsiyet                303 non-null    object \n",
      " 2   gogus_agrisi_tipi       303 non-null    object \n",
      " 3   hareketsiz_kan_basinci  303 non-null    float64\n",
      " 4   serum_kolestrol         303 non-null    float64\n",
      " 5   aclik_kan_sekeri        303 non-null    int64  \n",
      " 6   elektrokardiyografi     303 non-null    object \n",
      " 7   en_yuksek_kalp_hizi     303 non-null    float64\n",
      " 8   anjin_bagli_egsersiz    303 non-null    int64  \n",
      " 9   st_depresyonu           303 non-null    float64\n",
      " 10  st_egimi                303 non-null    object \n",
      " 11  buyuk_damarlar          299 non-null    float64\n",
      " 12  talasemi                301 non-null    object \n",
      " 13  kalp_rahatsizligi       303 non-null    int64  \n",
      "dtypes: float64(6), int64(3), object(5)\n",
      "memory usage: 33.3+ KB\n"
     ]
    }
   ],
   "source": [
    "veri.info()"
   ]
  },
  {
   "cell_type": "code",
   "execution_count": 15,
   "metadata": {},
   "outputs": [
    {
     "ename": "ValueError",
     "evalue": "2",
     "output_type": "error",
     "traceback": [
      "\u001b[0;31m---------------------------------------------------------------------------\u001b[0m",
      "\u001b[0;31mValueError\u001b[0m                                Traceback (most recent call last)",
      "Cell \u001b[0;32mIn[15], line 5\u001b[0m\n\u001b[1;32m      2\u001b[0m tal\u001b[38;5;241m=\u001b[39mveri[\u001b[38;5;124m\"\u001b[39m\u001b[38;5;124mtalasemi\u001b[39m\u001b[38;5;124m\"\u001b[39m]\u001b[38;5;241m.\u001b[39mvalues\u001b[38;5;241m.\u001b[39mreshape(\u001b[38;5;241m-\u001b[39m\u001b[38;5;241m1\u001b[39m,\u001b[38;5;241m1\u001b[39m)\n\u001b[1;32m      4\u001b[0m veri[\u001b[38;5;124m\"\u001b[39m\u001b[38;5;124mbuyuk_damarlar\u001b[39m\u001b[38;5;124m\"\u001b[39m]\u001b[38;5;241m=\u001b[39mimp_sayisal\u001b[38;5;241m.\u001b[39mfit_transform(bd)\n\u001b[0;32m----> 5\u001b[0m \u001b[43mveri\u001b[49m\u001b[43m[\u001b[49m\u001b[38;5;124;43m\"\u001b[39;49m\u001b[38;5;124;43mtalasemi\u001b[39;49m\u001b[38;5;124;43m\"\u001b[39;49m\u001b[43m]\u001b[49m\u001b[38;5;241m=\u001b[39mimp_kategorik\u001b[38;5;241m.\u001b[39mfit_transform(tal)\n",
      "File \u001b[0;32m~/.local/lib/python3.10/site-packages/pandas/core/frame.py:4299\u001b[0m, in \u001b[0;36mDataFrame.__setitem__\u001b[0;34m(self, key, value)\u001b[0m\n\u001b[1;32m   4296\u001b[0m     \u001b[38;5;28mself\u001b[39m\u001b[38;5;241m.\u001b[39m_setitem_array([key], value)\n\u001b[1;32m   4297\u001b[0m \u001b[38;5;28;01melse\u001b[39;00m:\n\u001b[1;32m   4298\u001b[0m     \u001b[38;5;66;03m# set column\u001b[39;00m\n\u001b[0;32m-> 4299\u001b[0m     \u001b[38;5;28;43mself\u001b[39;49m\u001b[38;5;241;43m.\u001b[39;49m\u001b[43m_set_item\u001b[49m\u001b[43m(\u001b[49m\u001b[43mkey\u001b[49m\u001b[43m,\u001b[49m\u001b[43m \u001b[49m\u001b[43mvalue\u001b[49m\u001b[43m)\u001b[49m\n",
      "File \u001b[0;32m~/.local/lib/python3.10/site-packages/pandas/core/frame.py:4512\u001b[0m, in \u001b[0;36mDataFrame._set_item\u001b[0;34m(self, key, value)\u001b[0m\n\u001b[1;32m   4502\u001b[0m \u001b[38;5;28;01mdef\u001b[39;00m \u001b[38;5;21m_set_item\u001b[39m(\u001b[38;5;28mself\u001b[39m, key, value) \u001b[38;5;241m-\u001b[39m\u001b[38;5;241m>\u001b[39m \u001b[38;5;28;01mNone\u001b[39;00m:\n\u001b[1;32m   4503\u001b[0m \u001b[38;5;250m    \u001b[39m\u001b[38;5;124;03m\"\"\"\u001b[39;00m\n\u001b[1;32m   4504\u001b[0m \u001b[38;5;124;03m    Add series to DataFrame in specified column.\u001b[39;00m\n\u001b[1;32m   4505\u001b[0m \n\u001b[0;32m   (...)\u001b[0m\n\u001b[1;32m   4510\u001b[0m \u001b[38;5;124;03m    ensure homogeneity.\u001b[39;00m\n\u001b[1;32m   4511\u001b[0m \u001b[38;5;124;03m    \"\"\"\u001b[39;00m\n\u001b[0;32m-> 4512\u001b[0m     value, refs \u001b[38;5;241m=\u001b[39m \u001b[38;5;28;43mself\u001b[39;49m\u001b[38;5;241;43m.\u001b[39;49m\u001b[43m_sanitize_column\u001b[49m\u001b[43m(\u001b[49m\u001b[43mvalue\u001b[49m\u001b[43m)\u001b[49m\n\u001b[1;32m   4514\u001b[0m     \u001b[38;5;28;01mif\u001b[39;00m (\n\u001b[1;32m   4515\u001b[0m         key \u001b[38;5;129;01min\u001b[39;00m \u001b[38;5;28mself\u001b[39m\u001b[38;5;241m.\u001b[39mcolumns\n\u001b[1;32m   4516\u001b[0m         \u001b[38;5;129;01mand\u001b[39;00m value\u001b[38;5;241m.\u001b[39mndim \u001b[38;5;241m==\u001b[39m \u001b[38;5;241m1\u001b[39m\n\u001b[1;32m   4517\u001b[0m         \u001b[38;5;129;01mand\u001b[39;00m \u001b[38;5;129;01mnot\u001b[39;00m \u001b[38;5;28misinstance\u001b[39m(value\u001b[38;5;241m.\u001b[39mdtype, ExtensionDtype)\n\u001b[1;32m   4518\u001b[0m     ):\n\u001b[1;32m   4519\u001b[0m         \u001b[38;5;66;03m# broadcast across multiple columns if necessary\u001b[39;00m\n\u001b[1;32m   4520\u001b[0m         \u001b[38;5;28;01mif\u001b[39;00m \u001b[38;5;129;01mnot\u001b[39;00m \u001b[38;5;28mself\u001b[39m\u001b[38;5;241m.\u001b[39mcolumns\u001b[38;5;241m.\u001b[39mis_unique \u001b[38;5;129;01mor\u001b[39;00m \u001b[38;5;28misinstance\u001b[39m(\u001b[38;5;28mself\u001b[39m\u001b[38;5;241m.\u001b[39mcolumns, MultiIndex):\n",
      "File \u001b[0;32m~/.local/lib/python3.10/site-packages/pandas/core/frame.py:5254\u001b[0m, in \u001b[0;36mDataFrame._sanitize_column\u001b[0;34m(self, value)\u001b[0m\n\u001b[1;32m   5252\u001b[0m \u001b[38;5;28;01mif\u001b[39;00m is_list_like(value):\n\u001b[1;32m   5253\u001b[0m     com\u001b[38;5;241m.\u001b[39mrequire_length_match(value, \u001b[38;5;28mself\u001b[39m\u001b[38;5;241m.\u001b[39mindex)\n\u001b[0;32m-> 5254\u001b[0m arr \u001b[38;5;241m=\u001b[39m \u001b[43msanitize_array\u001b[49m\u001b[43m(\u001b[49m\u001b[43mvalue\u001b[49m\u001b[43m,\u001b[49m\u001b[43m \u001b[49m\u001b[38;5;28;43mself\u001b[39;49m\u001b[38;5;241;43m.\u001b[39;49m\u001b[43mindex\u001b[49m\u001b[43m,\u001b[49m\u001b[43m \u001b[49m\u001b[43mcopy\u001b[49m\u001b[38;5;241;43m=\u001b[39;49m\u001b[38;5;28;43;01mTrue\u001b[39;49;00m\u001b[43m,\u001b[49m\u001b[43m \u001b[49m\u001b[43mallow_2d\u001b[49m\u001b[38;5;241;43m=\u001b[39;49m\u001b[38;5;28;43;01mTrue\u001b[39;49;00m\u001b[43m)\u001b[49m\n\u001b[1;32m   5255\u001b[0m \u001b[38;5;28;01mif\u001b[39;00m (\n\u001b[1;32m   5256\u001b[0m     \u001b[38;5;28misinstance\u001b[39m(value, Index)\n\u001b[1;32m   5257\u001b[0m     \u001b[38;5;129;01mand\u001b[39;00m value\u001b[38;5;241m.\u001b[39mdtype \u001b[38;5;241m==\u001b[39m \u001b[38;5;124m\"\u001b[39m\u001b[38;5;124mobject\u001b[39m\u001b[38;5;124m\"\u001b[39m\n\u001b[0;32m   (...)\u001b[0m\n\u001b[1;32m   5260\u001b[0m     \u001b[38;5;66;03m# TODO: Remove kludge in sanitize_array for string mode when enforcing\u001b[39;00m\n\u001b[1;32m   5261\u001b[0m     \u001b[38;5;66;03m# this deprecation\u001b[39;00m\n\u001b[1;32m   5262\u001b[0m     warnings\u001b[38;5;241m.\u001b[39mwarn(\n\u001b[1;32m   5263\u001b[0m         \u001b[38;5;124m\"\u001b[39m\u001b[38;5;124mSetting an Index with object dtype into a DataFrame will stop \u001b[39m\u001b[38;5;124m\"\u001b[39m\n\u001b[1;32m   5264\u001b[0m         \u001b[38;5;124m\"\u001b[39m\u001b[38;5;124minferring another dtype in a future version. Cast the Index \u001b[39m\u001b[38;5;124m\"\u001b[39m\n\u001b[0;32m   (...)\u001b[0m\n\u001b[1;32m   5267\u001b[0m         stacklevel\u001b[38;5;241m=\u001b[39mfind_stack_level(),\n\u001b[1;32m   5268\u001b[0m     )\n",
      "File \u001b[0;32m~/.local/lib/python3.10/site-packages/pandas/core/construction.py:606\u001b[0m, in \u001b[0;36msanitize_array\u001b[0;34m(data, index, dtype, copy, allow_2d)\u001b[0m\n\u001b[1;32m    604\u001b[0m subarr \u001b[38;5;241m=\u001b[39m data\n\u001b[1;32m    605\u001b[0m \u001b[38;5;28;01mif\u001b[39;00m data\u001b[38;5;241m.\u001b[39mdtype \u001b[38;5;241m==\u001b[39m \u001b[38;5;28mobject\u001b[39m:\n\u001b[0;32m--> 606\u001b[0m     subarr \u001b[38;5;241m=\u001b[39m \u001b[43mmaybe_infer_to_datetimelike\u001b[49m\u001b[43m(\u001b[49m\u001b[43mdata\u001b[49m\u001b[43m)\u001b[49m\n\u001b[1;32m    607\u001b[0m     \u001b[38;5;28;01mif\u001b[39;00m (\n\u001b[1;32m    608\u001b[0m         object_index\n\u001b[1;32m    609\u001b[0m         \u001b[38;5;129;01mand\u001b[39;00m using_pyarrow_string_dtype()\n\u001b[1;32m    610\u001b[0m         \u001b[38;5;129;01mand\u001b[39;00m is_string_dtype(subarr)\n\u001b[1;32m    611\u001b[0m     ):\n\u001b[1;32m    612\u001b[0m         \u001b[38;5;66;03m# Avoid inference when string option is set\u001b[39;00m\n\u001b[1;32m    613\u001b[0m         subarr \u001b[38;5;241m=\u001b[39m data\n",
      "File \u001b[0;32m~/.local/lib/python3.10/site-packages/pandas/core/dtypes/cast.py:1182\u001b[0m, in \u001b[0;36mmaybe_infer_to_datetimelike\u001b[0;34m(value)\u001b[0m\n\u001b[1;32m   1179\u001b[0m     \u001b[38;5;28;01mraise\u001b[39;00m \u001b[38;5;167;01mTypeError\u001b[39;00m(\u001b[38;5;28mtype\u001b[39m(value))  \u001b[38;5;66;03m# pragma: no cover\u001b[39;00m\n\u001b[1;32m   1180\u001b[0m \u001b[38;5;28;01mif\u001b[39;00m value\u001b[38;5;241m.\u001b[39mndim \u001b[38;5;241m!=\u001b[39m \u001b[38;5;241m1\u001b[39m:\n\u001b[1;32m   1181\u001b[0m     \u001b[38;5;66;03m# Caller is responsible\u001b[39;00m\n\u001b[0;32m-> 1182\u001b[0m     \u001b[38;5;28;01mraise\u001b[39;00m \u001b[38;5;167;01mValueError\u001b[39;00m(value\u001b[38;5;241m.\u001b[39mndim)  \u001b[38;5;66;03m# pragma: no cover\u001b[39;00m\n\u001b[1;32m   1184\u001b[0m \u001b[38;5;28;01mif\u001b[39;00m \u001b[38;5;129;01mnot\u001b[39;00m \u001b[38;5;28mlen\u001b[39m(value):\n\u001b[1;32m   1185\u001b[0m     \u001b[38;5;28;01mreturn\u001b[39;00m value\n",
      "\u001b[0;31mValueError\u001b[0m: 2"
     ]
    }
   ],
   "source": [
    "bd=veri[\"buyuk_damarlar\"].values.reshape(-1,1)\n",
    "tal=veri[\"talasemi\"].values.reshape(-1,1)\n",
    "\n",
    "veri[\"buyuk_damarlar\"]=imp_sayisal.fit_transform(bd)\n",
    "veri[\"talasemi\"]=imp_kategorik.fit_transform(tal)\n"
   ]
  },
  {
   "cell_type": "code",
   "execution_count": 12,
   "metadata": {},
   "outputs": [
    {
     "name": "stdout",
     "output_type": "stream",
     "text": [
      "<class 'pandas.core.frame.DataFrame'>\n",
      "RangeIndex: 303 entries, 0 to 302\n",
      "Data columns (total 14 columns):\n",
      " #   Column                  Non-Null Count  Dtype   \n",
      "---  ------                  --------------  -----   \n",
      " 0   yas                     303 non-null    float64 \n",
      " 1   cinsiyet                303 non-null    object  \n",
      " 2   gogus_agrisi_tipi       303 non-null    object  \n",
      " 3   hareketsiz_kan_basinci  303 non-null    float64 \n",
      " 4   serum_kolestrol         303 non-null    float64 \n",
      " 5   aclik_kan_sekeri        303 non-null    int64   \n",
      " 6   elektrokardiyografi     303 non-null    object  \n",
      " 7   en_yuksek_kalp_hizi     303 non-null    float64 \n",
      " 8   anjin_bagli_egsersiz    303 non-null    int64   \n",
      " 9   st_depresyonu           303 non-null    float64 \n",
      " 10  st_egimi                303 non-null    object  \n",
      " 11  buyuk_damarlar          303 non-null    float64 \n",
      " 12  talasemi                301 non-null    category\n",
      " 13  kalp_rahatsizligi       303 non-null    int64   \n",
      "dtypes: category(1), float64(6), int64(3), object(4)\n",
      "memory usage: 31.3+ KB\n"
     ]
    }
   ],
   "source": [
    "veri.info()"
   ]
  }
 ],
 "metadata": {
  "kernelspec": {
   "display_name": "Python 3",
   "language": "python",
   "name": "python3"
  },
  "language_info": {
   "codemirror_mode": {
    "name": "ipython",
    "version": 3
   },
   "file_extension": ".py",
   "mimetype": "text/x-python",
   "name": "python",
   "nbconvert_exporter": "python",
   "pygments_lexer": "ipython3",
   "version": "3.10.12"
  }
 },
 "nbformat": 4,
 "nbformat_minor": 2
}
