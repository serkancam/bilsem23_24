{
 "cells": [
  {
   "cell_type": "code",
   "execution_count": 80,
   "metadata": {},
   "outputs": [],
   "source": [
    "import pandas as pd\n",
    "import numpy as np\n",
    "import matplotlib.pyplot as plt\n",
    "import seaborn as sns"
   ]
  },
  {
   "cell_type": "code",
   "execution_count": 81,
   "metadata": {},
   "outputs": [
    {
     "name": "stdout",
     "output_type": "stream",
     "text": [
      "<class 'pandas.core.frame.DataFrame'>\n",
      "RangeIndex: 25155 entries, 0 to 25154\n",
      "Data columns (total 12 columns):\n",
      " #   Column                  Non-Null Count  Dtype  \n",
      "---  ------                  --------------  -----  \n",
      " 0   Unnamed: 0              25155 non-null  int64  \n",
      " 1   district                25155 non-null  object \n",
      " 2   price                   25155 non-null  int64  \n",
      " 3   AdUpdateDate            25155 non-null  object \n",
      " 4   GrossSquareMeters       25155 non-null  float64\n",
      " 5   BuildingAge             25155 non-null  int64  \n",
      " 6   NumberFloorsofBuilding  25155 non-null  int64  \n",
      " 7   NumberOfRooms           25155 non-null  object \n",
      " 8   FloorLocation           25155 non-null  object \n",
      " 9   CreditEligibility       25155 non-null  object \n",
      " 10  NetSquareMeters         25155 non-null  float64\n",
      " 11  kategori                25155 non-null  object \n",
      "dtypes: float64(2), int64(4), object(6)\n",
      "memory usage: 2.3+ MB\n"
     ]
    }
   ],
   "source": [
    "veri=pd.read_csv(\"vm_dosyalar/istanbul-ev-fiyatlari.csv\")\n",
    "veri.info()"
   ]
  },
  {
   "cell_type": "code",
   "execution_count": 82,
   "metadata": {},
   "outputs": [
    {
     "data": {
      "text/html": [
       "<div>\n",
       "<style scoped>\n",
       "    .dataframe tbody tr th:only-of-type {\n",
       "        vertical-align: middle;\n",
       "    }\n",
       "\n",
       "    .dataframe tbody tr th {\n",
       "        vertical-align: top;\n",
       "    }\n",
       "\n",
       "    .dataframe thead th {\n",
       "        text-align: right;\n",
       "    }\n",
       "</style>\n",
       "<table border=\"1\" class=\"dataframe\">\n",
       "  <thead>\n",
       "    <tr style=\"text-align: right;\">\n",
       "      <th></th>\n",
       "      <th>Unnamed: 0</th>\n",
       "      <th>district</th>\n",
       "      <th>price</th>\n",
       "      <th>AdUpdateDate</th>\n",
       "      <th>GrossSquareMeters</th>\n",
       "      <th>BuildingAge</th>\n",
       "      <th>NumberFloorsofBuilding</th>\n",
       "      <th>NumberOfRooms</th>\n",
       "      <th>FloorLocation</th>\n",
       "      <th>CreditEligibility</th>\n",
       "      <th>NetSquareMeters</th>\n",
       "      <th>kategori</th>\n",
       "    </tr>\n",
       "  </thead>\n",
       "  <tbody>\n",
       "    <tr>\n",
       "      <th>0</th>\n",
       "      <td>0</td>\n",
       "      <td>adalar</td>\n",
       "      <td>3100000</td>\n",
       "      <td>24 Şubat 2022</td>\n",
       "      <td>160.0</td>\n",
       "      <td>21</td>\n",
       "      <td>3</td>\n",
       "      <td>3+1</td>\n",
       "      <td>Çatı Katı</td>\n",
       "      <td>Krediye Uygun</td>\n",
       "      <td>120.0</td>\n",
       "      <td>Daire</td>\n",
       "    </tr>\n",
       "    <tr>\n",
       "      <th>1</th>\n",
       "      <td>1</td>\n",
       "      <td>adalar</td>\n",
       "      <td>1600000</td>\n",
       "      <td>02 Mart 2022</td>\n",
       "      <td>120.0</td>\n",
       "      <td>5</td>\n",
       "      <td>3</td>\n",
       "      <td>2+1</td>\n",
       "      <td>Bahçe Katı</td>\n",
       "      <td>Krediye Uygun</td>\n",
       "      <td>100.0</td>\n",
       "      <td>Daire</td>\n",
       "    </tr>\n",
       "    <tr>\n",
       "      <th>2</th>\n",
       "      <td>2</td>\n",
       "      <td>adalar</td>\n",
       "      <td>18500000</td>\n",
       "      <td>11 Şubat 2022</td>\n",
       "      <td>350.0</td>\n",
       "      <td>21</td>\n",
       "      <td>2</td>\n",
       "      <td>3+1</td>\n",
       "      <td>Düz Giriş</td>\n",
       "      <td>Krediye Uygun</td>\n",
       "      <td>300.0</td>\n",
       "      <td>Müstakil Ev</td>\n",
       "    </tr>\n",
       "  </tbody>\n",
       "</table>\n",
       "</div>"
      ],
      "text/plain": [
       "   Unnamed: 0 district     price   AdUpdateDate  GrossSquareMeters  \\\n",
       "0           0   adalar   3100000  24 Şubat 2022              160.0   \n",
       "1           1   adalar   1600000   02 Mart 2022              120.0   \n",
       "2           2   adalar  18500000  11 Şubat 2022              350.0   \n",
       "\n",
       "   BuildingAge  NumberFloorsofBuilding NumberOfRooms FloorLocation  \\\n",
       "0           21                       3           3+1     Çatı Katı   \n",
       "1            5                       3           2+1    Bahçe Katı   \n",
       "2           21                       2           3+1     Düz Giriş   \n",
       "\n",
       "  CreditEligibility  NetSquareMeters      kategori  \n",
       "0     Krediye Uygun            120.0         Daire  \n",
       "1     Krediye Uygun            100.0         Daire  \n",
       "2     Krediye Uygun            300.0   Müstakil Ev  "
      ]
     },
     "execution_count": 82,
     "metadata": {},
     "output_type": "execute_result"
    }
   ],
   "source": [
    "veri.head(3)"
   ]
  },
  {
   "cell_type": "code",
   "execution_count": 83,
   "metadata": {},
   "outputs": [
    {
     "data": {
      "text/plain": [
       "Index(['Unnamed: 0', 'district', 'price', 'AdUpdateDate', 'GrossSquareMeters',\n",
       "       'BuildingAge', 'NumberFloorsofBuilding', 'NumberOfRooms',\n",
       "       'FloorLocation', 'CreditEligibility', 'NetSquareMeters', 'kategori'],\n",
       "      dtype='object')"
      ]
     },
     "execution_count": 83,
     "metadata": {},
     "output_type": "execute_result"
    }
   ],
   "source": [
    "veri.columns"
   ]
  },
  {
   "cell_type": "code",
   "execution_count": 84,
   "metadata": {},
   "outputs": [
    {
     "data": {
      "text/html": [
       "<div>\n",
       "<style scoped>\n",
       "    .dataframe tbody tr th:only-of-type {\n",
       "        vertical-align: middle;\n",
       "    }\n",
       "\n",
       "    .dataframe tbody tr th {\n",
       "        vertical-align: top;\n",
       "    }\n",
       "\n",
       "    .dataframe thead th {\n",
       "        text-align: right;\n",
       "    }\n",
       "</style>\n",
       "<table border=\"1\" class=\"dataframe\">\n",
       "  <thead>\n",
       "    <tr style=\"text-align: right;\">\n",
       "      <th></th>\n",
       "      <th>district</th>\n",
       "      <th>price</th>\n",
       "      <th>GrossSquareMeters</th>\n",
       "      <th>BuildingAge</th>\n",
       "      <th>NumberFloorsofBuilding</th>\n",
       "      <th>NumberOfRooms</th>\n",
       "      <th>FloorLocation</th>\n",
       "      <th>CreditEligibility</th>\n",
       "      <th>NetSquareMeters</th>\n",
       "      <th>kategori</th>\n",
       "    </tr>\n",
       "  </thead>\n",
       "  <tbody>\n",
       "    <tr>\n",
       "      <th>0</th>\n",
       "      <td>adalar</td>\n",
       "      <td>3100000</td>\n",
       "      <td>160.0</td>\n",
       "      <td>21</td>\n",
       "      <td>3</td>\n",
       "      <td>3+1</td>\n",
       "      <td>Çatı Katı</td>\n",
       "      <td>Krediye Uygun</td>\n",
       "      <td>120.0</td>\n",
       "      <td>Daire</td>\n",
       "    </tr>\n",
       "    <tr>\n",
       "      <th>1</th>\n",
       "      <td>adalar</td>\n",
       "      <td>1600000</td>\n",
       "      <td>120.0</td>\n",
       "      <td>5</td>\n",
       "      <td>3</td>\n",
       "      <td>2+1</td>\n",
       "      <td>Bahçe Katı</td>\n",
       "      <td>Krediye Uygun</td>\n",
       "      <td>100.0</td>\n",
       "      <td>Daire</td>\n",
       "    </tr>\n",
       "    <tr>\n",
       "      <th>2</th>\n",
       "      <td>adalar</td>\n",
       "      <td>18500000</td>\n",
       "      <td>350.0</td>\n",
       "      <td>21</td>\n",
       "      <td>2</td>\n",
       "      <td>3+1</td>\n",
       "      <td>Düz Giriş</td>\n",
       "      <td>Krediye Uygun</td>\n",
       "      <td>300.0</td>\n",
       "      <td>Müstakil Ev</td>\n",
       "    </tr>\n",
       "    <tr>\n",
       "      <th>3</th>\n",
       "      <td>adalar</td>\n",
       "      <td>9500000</td>\n",
       "      <td>550.0</td>\n",
       "      <td>11</td>\n",
       "      <td>3</td>\n",
       "      <td>8+ Oda</td>\n",
       "      <td>Düz Giriş</td>\n",
       "      <td>Krediye Uygun Değil</td>\n",
       "      <td>540.0</td>\n",
       "      <td>Bina</td>\n",
       "    </tr>\n",
       "    <tr>\n",
       "      <th>4</th>\n",
       "      <td>adalar</td>\n",
       "      <td>25000000</td>\n",
       "      <td>840.0</td>\n",
       "      <td>21</td>\n",
       "      <td>4</td>\n",
       "      <td>8+ Oda</td>\n",
       "      <td>Düz Giriş</td>\n",
       "      <td>Krediye Uygun</td>\n",
       "      <td>700.0</td>\n",
       "      <td>Köşk</td>\n",
       "    </tr>\n",
       "  </tbody>\n",
       "</table>\n",
       "</div>"
      ],
      "text/plain": [
       "  district     price  GrossSquareMeters  BuildingAge  NumberFloorsofBuilding  \\\n",
       "0   adalar   3100000              160.0           21                       3   \n",
       "1   adalar   1600000              120.0            5                       3   \n",
       "2   adalar  18500000              350.0           21                       2   \n",
       "3   adalar   9500000              550.0           11                       3   \n",
       "4   adalar  25000000              840.0           21                       4   \n",
       "\n",
       "  NumberOfRooms FloorLocation    CreditEligibility  NetSquareMeters  \\\n",
       "0           3+1     Çatı Katı        Krediye Uygun            120.0   \n",
       "1           2+1    Bahçe Katı        Krediye Uygun            100.0   \n",
       "2           3+1     Düz Giriş        Krediye Uygun            300.0   \n",
       "3        8+ Oda     Düz Giriş  Krediye Uygun Değil            540.0   \n",
       "4        8+ Oda     Düz Giriş        Krediye Uygun            700.0   \n",
       "\n",
       "       kategori  \n",
       "0         Daire  \n",
       "1         Daire  \n",
       "2   Müstakil Ev  \n",
       "3          Bina  \n",
       "4          Köşk  "
      ]
     },
     "execution_count": 84,
     "metadata": {},
     "output_type": "execute_result"
    }
   ],
   "source": [
    "veri=veri.drop(columns=['Unnamed: 0','AdUpdateDate'])\n",
    "veri.head()\n"
   ]
  },
  {
   "cell_type": "code",
   "execution_count": 85,
   "metadata": {},
   "outputs": [
    {
     "data": {
      "text/plain": [
       "Index(['district', 'price', 'GrossSquareMeters', 'BuildingAge',\n",
       "       'NumberFloorsofBuilding', 'NumberOfRooms', 'FloorLocation',\n",
       "       'CreditEligibility', 'NetSquareMeters', 'kategori'],\n",
       "      dtype='object')"
      ]
     },
     "execution_count": 85,
     "metadata": {},
     "output_type": "execute_result"
    }
   ],
   "source": [
    "veri.columns"
   ]
  },
  {
   "cell_type": "code",
   "execution_count": 86,
   "metadata": {},
   "outputs": [],
   "source": [
    "veri.rename(columns={\n",
    "      'district':\"ilce\", \n",
    "      'price':\"fiyat\", \n",
    "      'GrossSquareMeters':\"brutm2\", \n",
    "      'BuildingAge':\"yas\",\n",
    "       'NumberFloorsofBuilding':\"kat_sayisi\", \n",
    "       'NumberOfRooms':\"oda_sayi\", \n",
    "       'FloorLocation':\"kat\",\n",
    "       'CreditEligibility':\"kredi\", \n",
    "       'NetSquareMeters':\"netm2\", \n",
    "       'kategori':\"tip\"  \n",
    "},inplace=True)"
   ]
  },
  {
   "cell_type": "code",
   "execution_count": 87,
   "metadata": {},
   "outputs": [
    {
     "data": {
      "text/html": [
       "<div>\n",
       "<style scoped>\n",
       "    .dataframe tbody tr th:only-of-type {\n",
       "        vertical-align: middle;\n",
       "    }\n",
       "\n",
       "    .dataframe tbody tr th {\n",
       "        vertical-align: top;\n",
       "    }\n",
       "\n",
       "    .dataframe thead th {\n",
       "        text-align: right;\n",
       "    }\n",
       "</style>\n",
       "<table border=\"1\" class=\"dataframe\">\n",
       "  <thead>\n",
       "    <tr style=\"text-align: right;\">\n",
       "      <th></th>\n",
       "      <th>ilce</th>\n",
       "      <th>fiyat</th>\n",
       "      <th>brutm2</th>\n",
       "      <th>yas</th>\n",
       "      <th>kat_sayisi</th>\n",
       "      <th>oda_sayi</th>\n",
       "      <th>kat</th>\n",
       "      <th>kredi</th>\n",
       "      <th>netm2</th>\n",
       "      <th>tip</th>\n",
       "    </tr>\n",
       "  </thead>\n",
       "  <tbody>\n",
       "    <tr>\n",
       "      <th>0</th>\n",
       "      <td>adalar</td>\n",
       "      <td>3100000</td>\n",
       "      <td>160.0</td>\n",
       "      <td>21</td>\n",
       "      <td>3</td>\n",
       "      <td>3+1</td>\n",
       "      <td>Çatı Katı</td>\n",
       "      <td>Krediye Uygun</td>\n",
       "      <td>120.0</td>\n",
       "      <td>Daire</td>\n",
       "    </tr>\n",
       "    <tr>\n",
       "      <th>1</th>\n",
       "      <td>adalar</td>\n",
       "      <td>1600000</td>\n",
       "      <td>120.0</td>\n",
       "      <td>5</td>\n",
       "      <td>3</td>\n",
       "      <td>2+1</td>\n",
       "      <td>Bahçe Katı</td>\n",
       "      <td>Krediye Uygun</td>\n",
       "      <td>100.0</td>\n",
       "      <td>Daire</td>\n",
       "    </tr>\n",
       "    <tr>\n",
       "      <th>2</th>\n",
       "      <td>adalar</td>\n",
       "      <td>18500000</td>\n",
       "      <td>350.0</td>\n",
       "      <td>21</td>\n",
       "      <td>2</td>\n",
       "      <td>3+1</td>\n",
       "      <td>Düz Giriş</td>\n",
       "      <td>Krediye Uygun</td>\n",
       "      <td>300.0</td>\n",
       "      <td>Müstakil Ev</td>\n",
       "    </tr>\n",
       "  </tbody>\n",
       "</table>\n",
       "</div>"
      ],
      "text/plain": [
       "     ilce     fiyat  brutm2  yas  kat_sayisi oda_sayi         kat  \\\n",
       "0  adalar   3100000   160.0   21           3      3+1   Çatı Katı   \n",
       "1  adalar   1600000   120.0    5           3      2+1  Bahçe Katı   \n",
       "2  adalar  18500000   350.0   21           2      3+1   Düz Giriş   \n",
       "\n",
       "           kredi  netm2           tip  \n",
       "0  Krediye Uygun  120.0         Daire  \n",
       "1  Krediye Uygun  100.0         Daire  \n",
       "2  Krediye Uygun  300.0   Müstakil Ev  "
      ]
     },
     "execution_count": 87,
     "metadata": {},
     "output_type": "execute_result"
    }
   ],
   "source": [
    "veri.head(3)\n"
   ]
  },
  {
   "cell_type": "code",
   "execution_count": 88,
   "metadata": {},
   "outputs": [
    {
     "data": {
      "text/plain": [
       "0             adalar\n",
       "1             adalar\n",
       "2             adalar\n",
       "3             adalar\n",
       "4             adalar\n",
       "            ...     \n",
       "25150    zeytinburnu\n",
       "25151    zeytinburnu\n",
       "25152    zeytinburnu\n",
       "25153    zeytinburnu\n",
       "25154    zeytinburnu\n",
       "Name: ilce, Length: 25155, dtype: object"
      ]
     },
     "execution_count": 88,
     "metadata": {},
     "output_type": "execute_result"
    }
   ],
   "source": [
    "veri[\"ilce\"]"
   ]
  },
  {
   "cell_type": "code",
   "execution_count": 89,
   "metadata": {},
   "outputs": [
    {
     "data": {
      "text/plain": [
       "array(['adalar', 'arnavutkoy', 'atasehir', 'avcilar', 'bagcilar',\n",
       "       'bahcelievler', 'bakirkoy', 'basaksehir', 'bayrampasa', 'besiktas',\n",
       "       'beykoz', 'beylikduzu', 'beyoglu', 'buyukcekmece', 'catalca',\n",
       "       'cekmekoy', 'esenler', 'esenyurt', 'eyupsultan', 'fatih',\n",
       "       'gaziosmanpasa', 'gungoren', 'kadikoy', 'kagithane', 'kartal',\n",
       "       'kucukcekmece', 'maltepe', 'pendik', 'sancaktepe', 'sariyer',\n",
       "       'sile', 'silivri', 'sisli', 'sultanbeyli', 'sultangazi', 'tuzla',\n",
       "       'umraniye', 'uskudar', 'zeytinburnu'], dtype=object)"
      ]
     },
     "execution_count": 89,
     "metadata": {},
     "output_type": "execute_result"
    }
   ],
   "source": [
    "veri[\"ilce\"].unique()"
   ]
  },
  {
   "cell_type": "code",
   "execution_count": 90,
   "metadata": {},
   "outputs": [
    {
     "data": {
      "text/plain": [
       "ilce\n",
       "sariyer          1449\n",
       "kadikoy          1446\n",
       "bahcelievler     1429\n",
       "esenyurt         1415\n",
       "kucukcekmece     1361\n",
       "maltepe          1230\n",
       "sultangazi       1000\n",
       "avcilar           933\n",
       "cekmekoy          923\n",
       "sancaktepe        918\n",
       "beylikduzu        888\n",
       "buyukcekmece      756\n",
       "kagithane         756\n",
       "gaziosmanpasa     709\n",
       "umraniye          690\n",
       "pendik            678\n",
       "bakirkoy          673\n",
       "basaksehir        671\n",
       "besiktas          659\n",
       "eyupsultan        635\n",
       "kartal            619\n",
       "uskudar           618\n",
       "sisli             595\n",
       "bagcilar          522\n",
       "fatih             488\n",
       "tuzla             382\n",
       "atasehir          378\n",
       "silivri           342\n",
       "sultanbeyli       314\n",
       "esenler           265\n",
       "arnavutkoy        256\n",
       "beyoglu           228\n",
       "gungoren          221\n",
       "zeytinburnu       191\n",
       "bayrampasa        174\n",
       "beykoz            148\n",
       "sile               95\n",
       "catalca            74\n",
       "adalar             26\n",
       "Name: count, dtype: int64"
      ]
     },
     "execution_count": 90,
     "metadata": {},
     "output_type": "execute_result"
    }
   ],
   "source": [
    "veri[\"ilce\"].value_counts()"
   ]
  },
  {
   "cell_type": "code",
   "execution_count": 91,
   "metadata": {},
   "outputs": [
    {
     "data": {
      "text/plain": [
       "kredi\n",
       "Krediye Uygun          22197\n",
       "Krediye Uygun Değil     2568\n",
       "Bilinmiyor               390\n",
       "Name: count, dtype: int64"
      ]
     },
     "execution_count": 91,
     "metadata": {},
     "output_type": "execute_result"
    }
   ],
   "source": [
    "veri[\"kredi\"].value_counts()"
   ]
  },
  {
   "cell_type": "code",
   "execution_count": 92,
   "metadata": {},
   "outputs": [
    {
     "data": {
      "text/html": [
       "<div>\n",
       "<style scoped>\n",
       "    .dataframe tbody tr th:only-of-type {\n",
       "        vertical-align: middle;\n",
       "    }\n",
       "\n",
       "    .dataframe tbody tr th {\n",
       "        vertical-align: top;\n",
       "    }\n",
       "\n",
       "    .dataframe thead th {\n",
       "        text-align: right;\n",
       "    }\n",
       "</style>\n",
       "<table border=\"1\" class=\"dataframe\">\n",
       "  <thead>\n",
       "    <tr style=\"text-align: right;\">\n",
       "      <th></th>\n",
       "      <th>ilce</th>\n",
       "      <th>fiyat</th>\n",
       "      <th>brutm2</th>\n",
       "      <th>yas</th>\n",
       "      <th>kat_sayisi</th>\n",
       "      <th>oda_sayi</th>\n",
       "      <th>kat</th>\n",
       "      <th>kredi</th>\n",
       "      <th>netm2</th>\n",
       "      <th>tip</th>\n",
       "    </tr>\n",
       "  </thead>\n",
       "  <tbody>\n",
       "    <tr>\n",
       "      <th>20202</th>\n",
       "      <td>sariyer</td>\n",
       "      <td>970000</td>\n",
       "      <td>64.0</td>\n",
       "      <td>5</td>\n",
       "      <td>10</td>\n",
       "      <td>1+1</td>\n",
       "      <td>5. Kat</td>\n",
       "      <td>Krediye Uygun</td>\n",
       "      <td>49.0</td>\n",
       "      <td>Daire</td>\n",
       "    </tr>\n",
       "    <tr>\n",
       "      <th>20227</th>\n",
       "      <td>sariyer</td>\n",
       "      <td>760000</td>\n",
       "      <td>95.0</td>\n",
       "      <td>16</td>\n",
       "      <td>3</td>\n",
       "      <td>2+1</td>\n",
       "      <td>2. Kat</td>\n",
       "      <td>Krediye Uygun</td>\n",
       "      <td>85.0</td>\n",
       "      <td>Daire</td>\n",
       "    </tr>\n",
       "    <tr>\n",
       "      <th>20276</th>\n",
       "      <td>sariyer</td>\n",
       "      <td>35000</td>\n",
       "      <td>600.0</td>\n",
       "      <td>0</td>\n",
       "      <td>2</td>\n",
       "      <td>7+2</td>\n",
       "      <td>Bahçe Katı</td>\n",
       "      <td>Krediye Uygun</td>\n",
       "      <td>570.0</td>\n",
       "      <td>Villa</td>\n",
       "    </tr>\n",
       "    <tr>\n",
       "      <th>20503</th>\n",
       "      <td>sariyer</td>\n",
       "      <td>35000</td>\n",
       "      <td>600.0</td>\n",
       "      <td>0</td>\n",
       "      <td>2</td>\n",
       "      <td>7+2</td>\n",
       "      <td>Bahçe Katı</td>\n",
       "      <td>Krediye Uygun</td>\n",
       "      <td>570.0</td>\n",
       "      <td>Villa</td>\n",
       "    </tr>\n",
       "  </tbody>\n",
       "</table>\n",
       "</div>"
      ],
      "text/plain": [
       "          ilce   fiyat  brutm2  yas  kat_sayisi oda_sayi         kat  \\\n",
       "20202  sariyer  970000    64.0    5          10      1+1      5. Kat   \n",
       "20227  sariyer  760000    95.0   16           3      2+1      2. Kat   \n",
       "20276  sariyer   35000   600.0    0           2      7+2  Bahçe Katı   \n",
       "20503  sariyer   35000   600.0    0           2      7+2  Bahçe Katı   \n",
       "\n",
       "               kredi  netm2     tip  \n",
       "20202  Krediye Uygun   49.0   Daire  \n",
       "20227  Krediye Uygun   85.0   Daire  \n",
       "20276  Krediye Uygun  570.0   Villa  \n",
       "20503  Krediye Uygun  570.0   Villa  "
      ]
     },
     "execution_count": 92,
     "metadata": {},
     "output_type": "execute_result"
    }
   ],
   "source": [
    "# sarıyer de krediye uygun evler\n",
    "s1=veri[(veri[\"ilce\"]==\"sariyer\")&(veri[\"kredi\"]==\"Krediye Uygun\")&(veri[\"fiyat\"]<=1_000_000)]\n",
    "s1\n"
   ]
  },
  {
   "cell_type": "code",
   "execution_count": 93,
   "metadata": {},
   "outputs": [
    {
     "data": {
      "text/plain": [
       "array(['Çatı Katı', 'Bahçe Katı', 'Düz Giriş', 'Bahçe Dublex',\n",
       "       'Villa Tipi', '1. Kat', 'Müstakil', '3. Kat', '2. Kat',\n",
       "       'Çatı Dubleks', 'Yüksek Giriş', '5. Kat', '4. Kat', '7. Kat',\n",
       "       'Kot 2 (-2). Kat', 'Kot 3 (-3). Kat', '8. Kat', '6. Kat',\n",
       "       'Kot 1 (-1). Kat', '10. Kat', '32. Kat', '13. Kat', '14. Kat',\n",
       "       '22. Kat', '16. Kat', '19. Kat', '9. Kat', '28. Kat', '15. Kat',\n",
       "       '30-40. Kat', '12. Kat', 'Tam Bodrum', '11. Kat', '23. Kat',\n",
       "       'Yarı Bodrum', '18. Kat', '33. Kat', '10-20. Kat', '21. Kat',\n",
       "       '17. Kat', '26. Kat', '27. Kat', '20. Kat', '29. Kat', '25. Kat',\n",
       "       '24. Kat', '31. Kat', 'Yüksek Bodrum', '20-30. Kat', '30. Kat',\n",
       "       '36. Kat', '38. Kat', '34. Kat', '40+. Kat', '35. Kat'],\n",
       "      dtype=object)"
      ]
     },
     "execution_count": 93,
     "metadata": {},
     "output_type": "execute_result"
    }
   ],
   "source": [
    "veri[\"kat\"].unique()"
   ]
  },
  {
   "cell_type": "code",
   "execution_count": 94,
   "metadata": {},
   "outputs": [
    {
     "data": {
      "text/plain": [
       "kat\n",
       "2. kat             2908\n",
       "1. kat             2904\n",
       "3. kat             2819\n",
       "4. kat             2595\n",
       "düz giriş          1893\n",
       "bahçe katı         1826\n",
       "5. kat             1760\n",
       "yüksek giriş       1585\n",
       "6. kat              776\n",
       "çatı dubleks        744\n",
       "7. kat              553\n",
       "8. kat              505\n",
       "10. kat             428\n",
       "müstakil            402\n",
       "9. kat              344\n",
       "villa tipi          307\n",
       "çatı katı           296\n",
       "11. kat             240\n",
       "12. kat             216\n",
       "kot 1 (-1). kat     185\n",
       "13. kat             176\n",
       "14. kat             175\n",
       "bahçe dublex        157\n",
       "15. kat             155\n",
       "16. kat             133\n",
       "21. kat             107\n",
       "30-40. kat           99\n",
       "kot 2 (-2). kat      98\n",
       "17. kat              81\n",
       "20. kat              76\n",
       "19. kat              67\n",
       "18. kat              65\n",
       "kot 3 (-3). kat      48\n",
       "22. kat              42\n",
       "tam bodrum           38\n",
       "26. kat              38\n",
       "23. kat              37\n",
       "10-20. kat           36\n",
       "20-30. kat           34\n",
       "yarı bodrum          31\n",
       "yüksek bodrum        29\n",
       "25. kat              28\n",
       "24. kat              28\n",
       "30. kat              22\n",
       "28. kat              20\n",
       "27. kat              19\n",
       "29. kat               9\n",
       "33. kat               6\n",
       "31. kat               3\n",
       "32. kat               3\n",
       "40+. kat              3\n",
       "34. kat               2\n",
       "35. kat               2\n",
       "36. kat               1\n",
       "38. kat               1\n",
       "Name: count, dtype: int64"
      ]
     },
     "execution_count": 94,
     "metadata": {},
     "output_type": "execute_result"
    }
   ],
   "source": [
    "veri[\"kat\"]=veri[\"kat\"].str.lower()\n",
    "veri[\"kat\"].value_counts()"
   ]
  },
  {
   "cell_type": "code",
   "execution_count": 95,
   "metadata": {},
   "outputs": [
    {
     "data": {
      "text/plain": [
       "array(['çatı', 'bahçe', 'düzgiriş', 'bahçedublex', 'villatipi', '1.',\n",
       "       'müstakil', '3.', '2.', 'çatıdubleks', 'yüksekgiriş', '5.', '4.',\n",
       "       '7.', 'kot2(-2).', 'kot3(-3).', '8.', '6.', 'kot1(-1).', '10.',\n",
       "       '32.', '13.', '14.', '22.', '16.', '19.', '9.', '28.', '15.',\n",
       "       '30-40.', '12.', 'tambodrum', '11.', '23.', 'yarıbodrum', '18.',\n",
       "       '33.', '10-20.', '21.', '17.', '26.', '27.', '20.', '29.', '25.',\n",
       "       '24.', '31.', 'yüksekbodrum', '20-30.', '30.', '36.', '38.', '34.',\n",
       "       '40+.', '35.'], dtype=object)"
      ]
     },
     "execution_count": 95,
     "metadata": {},
     "output_type": "execute_result"
    }
   ],
   "source": [
    "veri[\"kat\"]=veri[\"kat\"].str.replace(\"katı\",\"\")\n",
    "veri[\"kat\"]=veri[\"kat\"].str.replace(\"kat\",\"\")\n",
    "veri[\"kat\"]=veri[\"kat\"].str.replace(\" \",\"\")\n",
    "veri[\"kat\"].unique()"
   ]
  },
  {
   "cell_type": "code",
   "execution_count": 96,
   "metadata": {},
   "outputs": [
    {
     "data": {
      "text/plain": [
       "ilce\n",
       "adalar           8.095577e+06\n",
       "arnavutkoy       1.254828e+06\n",
       "atasehir         5.717714e+06\n",
       "avcilar          1.488564e+06\n",
       "bagcilar         6.197389e+06\n",
       "bahcelievler     1.448017e+06\n",
       "bakirkoy         6.684624e+06\n",
       "basaksehir       2.457375e+06\n",
       "bayrampasa       2.653253e+06\n",
       "besiktas         2.263455e+07\n",
       "beykoz           3.061407e+07\n",
       "beylikduzu       3.099571e+06\n",
       "beyoglu          4.765056e+06\n",
       "buyukcekmece     4.287714e+06\n",
       "catalca          5.096489e+06\n",
       "cekmekoy         1.715376e+06\n",
       "esenler          8.591019e+05\n",
       "esenyurt         8.012613e+05\n",
       "eyupsultan       2.074624e+06\n",
       "fatih            2.785632e+06\n",
       "gaziosmanpasa    1.324071e+06\n",
       "gungoren         1.457787e+06\n",
       "kadikoy          5.466239e+06\n",
       "kagithane        3.803393e+06\n",
       "kartal           2.797948e+07\n",
       "kucukcekmece     1.415696e+06\n",
       "maltepe          2.210909e+06\n",
       "pendik           1.432552e+06\n",
       "sancaktepe       1.283540e+06\n",
       "sariyer          1.341739e+07\n",
       "sile             2.570215e+07\n",
       "silivri          9.223424e+06\n",
       "sisli            8.784342e+06\n",
       "sultanbeyli      1.091632e+06\n",
       "sultangazi       8.784640e+05\n",
       "tuzla            1.949194e+06\n",
       "umraniye         1.709095e+06\n",
       "uskudar          1.032212e+07\n",
       "zeytinburnu      5.197288e+06\n",
       "Name: fiyat, dtype: float64"
      ]
     },
     "execution_count": 96,
     "metadata": {},
     "output_type": "execute_result"
    }
   ],
   "source": [
    "veri.groupby(\"ilce\")[\"fiyat\"].mean()"
   ]
  },
  {
   "cell_type": "code",
   "execution_count": 97,
   "metadata": {},
   "outputs": [
    {
     "data": {
      "text/plain": [
       "27"
      ]
     },
     "execution_count": 97,
     "metadata": {},
     "output_type": "execute_result"
    }
   ],
   "source": [
    "len(veri[\"oda_sayi\"].unique())"
   ]
  },
  {
   "cell_type": "code",
   "execution_count": 98,
   "metadata": {},
   "outputs": [
    {
     "data": {
      "text/plain": [
       "array(['3+1', '2+1', '8+ Oda', '3+2', '5+1', '5 Oda', '2+2', '7+3', '1+1',\n",
       "       '5+3', '1 Oda', '6+1', '4+2', '5+2', '4+1', '6+2', '6+3', '2.5+1',\n",
       "       'Stüdyo', '6+4', '7+1', '1.5+1', '2+0', '7+2', '3.5+1', '4.5+1',\n",
       "       '5+4'], dtype=object)"
      ]
     },
     "execution_count": 98,
     "metadata": {},
     "output_type": "execute_result"
    }
   ],
   "source": [
    "veri[\"oda_sayi\"].unique()"
   ]
  },
  {
   "cell_type": "code",
   "execution_count": 99,
   "metadata": {},
   "outputs": [],
   "source": [
    "def oda_duzenle(a):\n",
    "    s={\n",
    "        '3+1':4, \n",
    "        '2+1':3,         \n",
    "        '3+2':5, \n",
    "        '5+1':6,\n",
    "        '8+ Oda':8,\n",
    "        '5 Oda':5,\n",
    "        '2+2':4, \n",
    "        '7+3':10, \n",
    "        '1+1':2,\n",
    "       '5+3':8, \n",
    "       '1 Oda':1,\n",
    "       '6+1':7, \n",
    "       '4+2':6, \n",
    "       '5+2':7, \n",
    "       '4+1':5, \n",
    "       '6+2':8, \n",
    "       '6+3':9, \n",
    "       '2.5+1':3.5,\n",
    "       'Stüdyo':1, \n",
    "       '6+4':10, \n",
    "       '7+1':8, \n",
    "       '1.5+1':2.5,\n",
    "       '2+0':2, \n",
    "       '7+2':9, \n",
    "       '3.5+1':4.5, \n",
    "       '4.5+1':5.5,\n",
    "       '5+4':9\n",
    "        \n",
    "    }\n",
    "    return s.get(a)\n",
    "veri[\"oda_sayi\"]=veri[\"oda_sayi\"].apply(oda_duzenle)\n",
    "veri[\"oda_sayi\"].unique()"
   ]
  },
  {
   "cell_type": "code",
   "execution_count": 100,
   "metadata": {},
   "outputs": [
    {
     "data": {
      "text/plain": [
       "array([ 4. ,  3. ,  8. ,  5. ,  6. , 10. ,  2. ,  1. ,  7. ,  9. ,  3.5,\n",
       "        2.5,  4.5,  5.5])"
      ]
     },
     "execution_count": 100,
     "metadata": {},
     "output_type": "execute_result"
    }
   ],
   "source": [
    "veri[\"oda_sayi\"]=veri[\"oda_sayi\"].apply(oda_duzenle)\n",
    "veri[\"oda_sayi\"].unique()"
   ]
  },
  {
   "cell_type": "code",
   "execution_count": 101,
   "metadata": {},
   "outputs": [
    {
     "data": {
      "text/plain": [
       "dtype('float64')"
      ]
     },
     "execution_count": 101,
     "metadata": {},
     "output_type": "execute_result"
    }
   ],
   "source": [
    "veri[\"oda_sayi\"].dtype"
   ]
  },
  {
   "cell_type": "code",
   "execution_count": 102,
   "metadata": {},
   "outputs": [
    {
     "data": {
      "text/html": [
       "<div>\n",
       "<style scoped>\n",
       "    .dataframe tbody tr th:only-of-type {\n",
       "        vertical-align: middle;\n",
       "    }\n",
       "\n",
       "    .dataframe tbody tr th {\n",
       "        vertical-align: top;\n",
       "    }\n",
       "\n",
       "    .dataframe thead th {\n",
       "        text-align: right;\n",
       "    }\n",
       "</style>\n",
       "<table border=\"1\" class=\"dataframe\">\n",
       "  <thead>\n",
       "    <tr style=\"text-align: right;\">\n",
       "      <th></th>\n",
       "      <th>ilce</th>\n",
       "      <th>fiyat</th>\n",
       "      <th>brutm2</th>\n",
       "      <th>yas</th>\n",
       "      <th>kat_sayisi</th>\n",
       "      <th>oda_sayi</th>\n",
       "      <th>kat</th>\n",
       "      <th>kredi</th>\n",
       "      <th>netm2</th>\n",
       "      <th>tip</th>\n",
       "    </tr>\n",
       "  </thead>\n",
       "  <tbody>\n",
       "    <tr>\n",
       "      <th>0</th>\n",
       "      <td>adalar</td>\n",
       "      <td>3100000</td>\n",
       "      <td>160.0</td>\n",
       "      <td>21</td>\n",
       "      <td>3</td>\n",
       "      <td>4.0</td>\n",
       "      <td>çatı</td>\n",
       "      <td>Krediye Uygun</td>\n",
       "      <td>120.0</td>\n",
       "      <td>Daire</td>\n",
       "    </tr>\n",
       "    <tr>\n",
       "      <th>1</th>\n",
       "      <td>adalar</td>\n",
       "      <td>1600000</td>\n",
       "      <td>120.0</td>\n",
       "      <td>5</td>\n",
       "      <td>3</td>\n",
       "      <td>3.0</td>\n",
       "      <td>bahçe</td>\n",
       "      <td>Krediye Uygun</td>\n",
       "      <td>100.0</td>\n",
       "      <td>Daire</td>\n",
       "    </tr>\n",
       "    <tr>\n",
       "      <th>2</th>\n",
       "      <td>adalar</td>\n",
       "      <td>18500000</td>\n",
       "      <td>350.0</td>\n",
       "      <td>21</td>\n",
       "      <td>2</td>\n",
       "      <td>4.0</td>\n",
       "      <td>düzgiriş</td>\n",
       "      <td>Krediye Uygun</td>\n",
       "      <td>300.0</td>\n",
       "      <td>Müstakil Ev</td>\n",
       "    </tr>\n",
       "  </tbody>\n",
       "</table>\n",
       "</div>"
      ],
      "text/plain": [
       "     ilce     fiyat  brutm2  yas  kat_sayisi  oda_sayi       kat  \\\n",
       "0  adalar   3100000   160.0   21           3       4.0      çatı   \n",
       "1  adalar   1600000   120.0    5           3       3.0     bahçe   \n",
       "2  adalar  18500000   350.0   21           2       4.0  düzgiriş   \n",
       "\n",
       "           kredi  netm2           tip  \n",
       "0  Krediye Uygun  120.0         Daire  \n",
       "1  Krediye Uygun  100.0         Daire  \n",
       "2  Krediye Uygun  300.0   Müstakil Ev  "
      ]
     },
     "execution_count": 102,
     "metadata": {},
     "output_type": "execute_result"
    }
   ],
   "source": [
    "veri.head(3)"
   ]
  },
  {
   "cell_type": "code",
   "execution_count": 106,
   "metadata": {},
   "outputs": [],
   "source": [
    "veri.to_csv(\"ev_fiyatlari2.csv\",index=False)"
   ]
  }
 ],
 "metadata": {
  "kernelspec": {
   "display_name": "Python 3",
   "language": "python",
   "name": "python3"
  },
  "language_info": {
   "codemirror_mode": {
    "name": "ipython",
    "version": 3
   },
   "file_extension": ".py",
   "mimetype": "text/x-python",
   "name": "python",
   "nbconvert_exporter": "python",
   "pygments_lexer": "ipython3",
   "version": "3.10.12"
  }
 },
 "nbformat": 4,
 "nbformat_minor": 2
}
