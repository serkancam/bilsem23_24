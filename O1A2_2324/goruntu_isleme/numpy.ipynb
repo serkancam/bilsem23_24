{
 "cells": [
  {
   "cell_type": "code",
   "execution_count": null,
   "metadata": {},
   "outputs": [],
   "source": [
    "# numpy.ipynb"
   ]
  },
  {
   "cell_type": "code",
   "execution_count": null,
   "metadata": {},
   "outputs": [],
   "source": [
    "# numpy çok boyutlu diziler için hızlı cebirsel işlemler yapar.\n",
    "# python da listelerde çok boyutlu olabilir. Fakat numpy dizileri(ndarray-n dimension array) python listelerinden 50 kat daha hızlı işlem yapar."
   ]
  },
  {
   "cell_type": "code",
   "execution_count": 1,
   "metadata": {},
   "outputs": [],
   "source": [
    "l0=5 #0d - skaler\n",
    "l1 =[5] # 1d-vektör - (1,)\n",
    "l2=[[5]] #2d-matris-(1,1)\n",
    "l3=[[[5]]] #3d-tensör-(1,1,1)"
   ]
  },
  {
   "cell_type": "code",
   "execution_count": 3,
   "metadata": {},
   "outputs": [],
   "source": [
    "l22=[[1,2],[3,45]] # 2d-(2,2)->4"
   ]
  },
  {
   "cell_type": "code",
   "execution_count": 4,
   "metadata": {},
   "outputs": [
    {
     "name": "stdout",
     "output_type": "stream",
     "text": [
      "72\n"
     ]
    }
   ],
   "source": [
    "l23=[[3,4,5,3],[5,6,68,72],[33,33,72,2],[78,98,36,7]]#2d (4,4)\n",
    "print(l23[1][3])"
   ]
  },
  {
   "cell_type": "code",
   "execution_count": 10,
   "metadata": {},
   "outputs": [
    {
     "name": "stdout",
     "output_type": "stream",
     "text": [
      "98\n",
      "58\n"
     ]
    }
   ],
   "source": [
    "l33=[\n",
    "    [[1,2,30],[25,3,25]],\n",
    "    [[22,30,25],[25,98,78]],\n",
    "    [[58,87,78],[2,3,8]]\n",
    "    ]\n",
    "#3d-(3,2,3)\n",
    "print(l33[1][1][1])\n",
    "print(l33[2][0][0])"
   ]
  },
  {
   "cell_type": "code",
   "execution_count": 18,
   "metadata": {},
   "outputs": [
    {
     "name": "stdout",
     "output_type": "stream",
     "text": [
      "(3, 2, 3)\n",
      "3\n",
      "600\n",
      "18\n",
      "[[[  4   5  33]\n",
      "  [ 28   6  28]]\n",
      "\n",
      " [[ 25  33  28]\n",
      "  [ 28 101  81]]\n",
      "\n",
      " [[ 61  90  81]\n",
      "  [  5   6  11]]]\n"
     ]
    }
   ],
   "source": [
    "import numpy as np\n",
    "\n",
    "l33=[\n",
    "    [[1,2,30],[25,3,25]],\n",
    "    [[22,30,25],[25,98,78]],\n",
    "    [[58,87,78],[2,3,8]]\n",
    "    ]\n",
    "r1 = np.array(l33)\n",
    "print(r1.shape)\n",
    "print(r1.ndim)\n",
    "print(r1.sum())\n",
    "print(r1.size)\n",
    "print(r1+3)\n",
    "\n"
   ]
  }
 ],
 "metadata": {
  "kernelspec": {
   "display_name": "Python 3",
   "language": "python",
   "name": "python3"
  },
  "language_info": {
   "codemirror_mode": {
    "name": "ipython",
    "version": 3
   },
   "file_extension": ".py",
   "mimetype": "text/x-python",
   "name": "python",
   "nbconvert_exporter": "python",
   "pygments_lexer": "ipython3",
   "version": "3.10.12"
  }
 },
 "nbformat": 4,
 "nbformat_minor": 2
}
