{
 "cells": [
  {
   "cell_type": "code",
   "execution_count": 103,
   "metadata": {},
   "outputs": [],
   "source": [
    "# istanbul_ev_fiyatlari.ipynb\n",
    "import pandas as pd\n",
    "import numpy as np\n",
    "import matplotlib.pyplot as plt\n",
    "import seaborn as sns"
   ]
  },
  {
   "cell_type": "code",
   "execution_count": 104,
   "metadata": {},
   "outputs": [
    {
     "data": {
      "text/html": [
       "<div>\n",
       "<style scoped>\n",
       "    .dataframe tbody tr th:only-of-type {\n",
       "        vertical-align: middle;\n",
       "    }\n",
       "\n",
       "    .dataframe tbody tr th {\n",
       "        vertical-align: top;\n",
       "    }\n",
       "\n",
       "    .dataframe thead th {\n",
       "        text-align: right;\n",
       "    }\n",
       "</style>\n",
       "<table border=\"1\" class=\"dataframe\">\n",
       "  <thead>\n",
       "    <tr style=\"text-align: right;\">\n",
       "      <th></th>\n",
       "      <th>Unnamed: 0</th>\n",
       "      <th>district</th>\n",
       "      <th>price</th>\n",
       "      <th>AdUpdateDate</th>\n",
       "      <th>GrossSquareMeters</th>\n",
       "      <th>BuildingAge</th>\n",
       "      <th>NumberFloorsofBuilding</th>\n",
       "      <th>NumberOfRooms</th>\n",
       "      <th>FloorLocation</th>\n",
       "      <th>CreditEligibility</th>\n",
       "      <th>NetSquareMeters</th>\n",
       "      <th>kategori</th>\n",
       "    </tr>\n",
       "  </thead>\n",
       "  <tbody>\n",
       "    <tr>\n",
       "      <th>0</th>\n",
       "      <td>0</td>\n",
       "      <td>adalar</td>\n",
       "      <td>3100000</td>\n",
       "      <td>24 Şubat 2022</td>\n",
       "      <td>160.0</td>\n",
       "      <td>21</td>\n",
       "      <td>3</td>\n",
       "      <td>3+1</td>\n",
       "      <td>Çatı Katı</td>\n",
       "      <td>Krediye Uygun</td>\n",
       "      <td>120.0</td>\n",
       "      <td>Daire</td>\n",
       "    </tr>\n",
       "    <tr>\n",
       "      <th>1</th>\n",
       "      <td>1</td>\n",
       "      <td>adalar</td>\n",
       "      <td>1600000</td>\n",
       "      <td>02 Mart 2022</td>\n",
       "      <td>120.0</td>\n",
       "      <td>5</td>\n",
       "      <td>3</td>\n",
       "      <td>2+1</td>\n",
       "      <td>Bahçe Katı</td>\n",
       "      <td>Krediye Uygun</td>\n",
       "      <td>100.0</td>\n",
       "      <td>Daire</td>\n",
       "    </tr>\n",
       "    <tr>\n",
       "      <th>2</th>\n",
       "      <td>2</td>\n",
       "      <td>adalar</td>\n",
       "      <td>18500000</td>\n",
       "      <td>11 Şubat 2022</td>\n",
       "      <td>350.0</td>\n",
       "      <td>21</td>\n",
       "      <td>2</td>\n",
       "      <td>3+1</td>\n",
       "      <td>Düz Giriş</td>\n",
       "      <td>Krediye Uygun</td>\n",
       "      <td>300.0</td>\n",
       "      <td>Müstakil Ev</td>\n",
       "    </tr>\n",
       "    <tr>\n",
       "      <th>3</th>\n",
       "      <td>3</td>\n",
       "      <td>adalar</td>\n",
       "      <td>9500000</td>\n",
       "      <td>11 Şubat 2022</td>\n",
       "      <td>550.0</td>\n",
       "      <td>11</td>\n",
       "      <td>3</td>\n",
       "      <td>8+ Oda</td>\n",
       "      <td>Düz Giriş</td>\n",
       "      <td>Krediye Uygun Değil</td>\n",
       "      <td>540.0</td>\n",
       "      <td>Bina</td>\n",
       "    </tr>\n",
       "    <tr>\n",
       "      <th>4</th>\n",
       "      <td>4</td>\n",
       "      <td>adalar</td>\n",
       "      <td>25000000</td>\n",
       "      <td>19 Ocak 2022</td>\n",
       "      <td>840.0</td>\n",
       "      <td>21</td>\n",
       "      <td>4</td>\n",
       "      <td>8+ Oda</td>\n",
       "      <td>Düz Giriş</td>\n",
       "      <td>Krediye Uygun</td>\n",
       "      <td>700.0</td>\n",
       "      <td>Köşk</td>\n",
       "    </tr>\n",
       "  </tbody>\n",
       "</table>\n",
       "</div>"
      ],
      "text/plain": [
       "   Unnamed: 0 district     price   AdUpdateDate  GrossSquareMeters  \\\n",
       "0           0   adalar   3100000  24 Şubat 2022              160.0   \n",
       "1           1   adalar   1600000   02 Mart 2022              120.0   \n",
       "2           2   adalar  18500000  11 Şubat 2022              350.0   \n",
       "3           3   adalar   9500000  11 Şubat 2022              550.0   \n",
       "4           4   adalar  25000000   19 Ocak 2022              840.0   \n",
       "\n",
       "   BuildingAge  NumberFloorsofBuilding NumberOfRooms FloorLocation  \\\n",
       "0           21                       3           3+1     Çatı Katı   \n",
       "1            5                       3           2+1    Bahçe Katı   \n",
       "2           21                       2           3+1     Düz Giriş   \n",
       "3           11                       3        8+ Oda     Düz Giriş   \n",
       "4           21                       4        8+ Oda     Düz Giriş   \n",
       "\n",
       "     CreditEligibility  NetSquareMeters      kategori  \n",
       "0        Krediye Uygun            120.0         Daire  \n",
       "1        Krediye Uygun            100.0         Daire  \n",
       "2        Krediye Uygun            300.0   Müstakil Ev  \n",
       "3  Krediye Uygun Değil            540.0          Bina  \n",
       "4        Krediye Uygun            700.0          Köşk  "
      ]
     },
     "execution_count": 104,
     "metadata": {},
     "output_type": "execute_result"
    }
   ],
   "source": [
    "veri= pd.read_csv(\"istanbul-ev-fiyatlari.csv\")\n",
    "veri.head(5)"
   ]
  },
  {
   "cell_type": "code",
   "execution_count": 105,
   "metadata": {},
   "outputs": [
    {
     "name": "stdout",
     "output_type": "stream",
     "text": [
      "<class 'pandas.core.frame.DataFrame'>\n",
      "RangeIndex: 25155 entries, 0 to 25154\n",
      "Data columns (total 12 columns):\n",
      " #   Column                  Non-Null Count  Dtype  \n",
      "---  ------                  --------------  -----  \n",
      " 0   Unnamed: 0              25155 non-null  int64  \n",
      " 1   district                25155 non-null  object \n",
      " 2   price                   25155 non-null  int64  \n",
      " 3   AdUpdateDate            25155 non-null  object \n",
      " 4   GrossSquareMeters       25155 non-null  float64\n",
      " 5   BuildingAge             25155 non-null  int64  \n",
      " 6   NumberFloorsofBuilding  25155 non-null  int64  \n",
      " 7   NumberOfRooms           25155 non-null  object \n",
      " 8   FloorLocation           25155 non-null  object \n",
      " 9   CreditEligibility       25155 non-null  object \n",
      " 10  NetSquareMeters         25155 non-null  float64\n",
      " 11  kategori                25155 non-null  object \n",
      "dtypes: float64(2), int64(4), object(6)\n",
      "memory usage: 2.3+ MB\n"
     ]
    }
   ],
   "source": [
    "veri.info()"
   ]
  },
  {
   "cell_type": "code",
   "execution_count": 106,
   "metadata": {},
   "outputs": [
    {
     "data": {
      "text/plain": [
       "Index(['Unnamed: 0', 'district', 'price', 'AdUpdateDate', 'GrossSquareMeters',\n",
       "       'BuildingAge', 'NumberFloorsofBuilding', 'NumberOfRooms',\n",
       "       'FloorLocation', 'CreditEligibility', 'NetSquareMeters', 'kategori'],\n",
       "      dtype='object')"
      ]
     },
     "execution_count": 106,
     "metadata": {},
     "output_type": "execute_result"
    }
   ],
   "source": [
    "veri.columns"
   ]
  },
  {
   "cell_type": "code",
   "execution_count": 107,
   "metadata": {},
   "outputs": [],
   "source": [
    "veri_ham=veri.copy()"
   ]
  },
  {
   "cell_type": "code",
   "execution_count": 108,
   "metadata": {},
   "outputs": [
    {
     "data": {
      "text/html": [
       "<div>\n",
       "<style scoped>\n",
       "    .dataframe tbody tr th:only-of-type {\n",
       "        vertical-align: middle;\n",
       "    }\n",
       "\n",
       "    .dataframe tbody tr th {\n",
       "        vertical-align: top;\n",
       "    }\n",
       "\n",
       "    .dataframe thead th {\n",
       "        text-align: right;\n",
       "    }\n",
       "</style>\n",
       "<table border=\"1\" class=\"dataframe\">\n",
       "  <thead>\n",
       "    <tr style=\"text-align: right;\">\n",
       "      <th></th>\n",
       "      <th>district</th>\n",
       "      <th>price</th>\n",
       "      <th>AdUpdateDate</th>\n",
       "      <th>GrossSquareMeters</th>\n",
       "      <th>BuildingAge</th>\n",
       "      <th>NumberFloorsofBuilding</th>\n",
       "      <th>NumberOfRooms</th>\n",
       "      <th>FloorLocation</th>\n",
       "      <th>CreditEligibility</th>\n",
       "      <th>NetSquareMeters</th>\n",
       "      <th>kategori</th>\n",
       "    </tr>\n",
       "  </thead>\n",
       "  <tbody>\n",
       "    <tr>\n",
       "      <th>0</th>\n",
       "      <td>adalar</td>\n",
       "      <td>3100000</td>\n",
       "      <td>24 Şubat 2022</td>\n",
       "      <td>160.0</td>\n",
       "      <td>21</td>\n",
       "      <td>3</td>\n",
       "      <td>3+1</td>\n",
       "      <td>Çatı Katı</td>\n",
       "      <td>Krediye Uygun</td>\n",
       "      <td>120.0</td>\n",
       "      <td>Daire</td>\n",
       "    </tr>\n",
       "    <tr>\n",
       "      <th>1</th>\n",
       "      <td>adalar</td>\n",
       "      <td>1600000</td>\n",
       "      <td>02 Mart 2022</td>\n",
       "      <td>120.0</td>\n",
       "      <td>5</td>\n",
       "      <td>3</td>\n",
       "      <td>2+1</td>\n",
       "      <td>Bahçe Katı</td>\n",
       "      <td>Krediye Uygun</td>\n",
       "      <td>100.0</td>\n",
       "      <td>Daire</td>\n",
       "    </tr>\n",
       "    <tr>\n",
       "      <th>2</th>\n",
       "      <td>adalar</td>\n",
       "      <td>18500000</td>\n",
       "      <td>11 Şubat 2022</td>\n",
       "      <td>350.0</td>\n",
       "      <td>21</td>\n",
       "      <td>2</td>\n",
       "      <td>3+1</td>\n",
       "      <td>Düz Giriş</td>\n",
       "      <td>Krediye Uygun</td>\n",
       "      <td>300.0</td>\n",
       "      <td>Müstakil Ev</td>\n",
       "    </tr>\n",
       "    <tr>\n",
       "      <th>3</th>\n",
       "      <td>adalar</td>\n",
       "      <td>9500000</td>\n",
       "      <td>11 Şubat 2022</td>\n",
       "      <td>550.0</td>\n",
       "      <td>11</td>\n",
       "      <td>3</td>\n",
       "      <td>8+ Oda</td>\n",
       "      <td>Düz Giriş</td>\n",
       "      <td>Krediye Uygun Değil</td>\n",
       "      <td>540.0</td>\n",
       "      <td>Bina</td>\n",
       "    </tr>\n",
       "    <tr>\n",
       "      <th>4</th>\n",
       "      <td>adalar</td>\n",
       "      <td>25000000</td>\n",
       "      <td>19 Ocak 2022</td>\n",
       "      <td>840.0</td>\n",
       "      <td>21</td>\n",
       "      <td>4</td>\n",
       "      <td>8+ Oda</td>\n",
       "      <td>Düz Giriş</td>\n",
       "      <td>Krediye Uygun</td>\n",
       "      <td>700.0</td>\n",
       "      <td>Köşk</td>\n",
       "    </tr>\n",
       "  </tbody>\n",
       "</table>\n",
       "</div>"
      ],
      "text/plain": [
       "  district     price   AdUpdateDate  GrossSquareMeters  BuildingAge  \\\n",
       "0   adalar   3100000  24 Şubat 2022              160.0           21   \n",
       "1   adalar   1600000   02 Mart 2022              120.0            5   \n",
       "2   adalar  18500000  11 Şubat 2022              350.0           21   \n",
       "3   adalar   9500000  11 Şubat 2022              550.0           11   \n",
       "4   adalar  25000000   19 Ocak 2022              840.0           21   \n",
       "\n",
       "   NumberFloorsofBuilding NumberOfRooms FloorLocation    CreditEligibility  \\\n",
       "0                       3           3+1     Çatı Katı        Krediye Uygun   \n",
       "1                       3           2+1    Bahçe Katı        Krediye Uygun   \n",
       "2                       2           3+1     Düz Giriş        Krediye Uygun   \n",
       "3                       3        8+ Oda     Düz Giriş  Krediye Uygun Değil   \n",
       "4                       4        8+ Oda     Düz Giriş        Krediye Uygun   \n",
       "\n",
       "   NetSquareMeters      kategori  \n",
       "0            120.0         Daire  \n",
       "1            100.0         Daire  \n",
       "2            300.0   Müstakil Ev  \n",
       "3            540.0          Bina  \n",
       "4            700.0          Köşk  "
      ]
     },
     "execution_count": 108,
     "metadata": {},
     "output_type": "execute_result"
    }
   ],
   "source": [
    "veri.drop(columns=['Unnamed: 0'],inplace=True)\n",
    "veri.head(5)"
   ]
  },
  {
   "cell_type": "code",
   "execution_count": 109,
   "metadata": {},
   "outputs": [
    {
     "data": {
      "text/plain": [
       "Index(['district', 'price', 'AdUpdateDate', 'GrossSquareMeters', 'BuildingAge',\n",
       "       'NumberFloorsofBuilding', 'NumberOfRooms', 'FloorLocation',\n",
       "       'CreditEligibility', 'NetSquareMeters', 'kategori'],\n",
       "      dtype='object')"
      ]
     },
     "execution_count": 109,
     "metadata": {},
     "output_type": "execute_result"
    }
   ],
   "source": [
    "veri.columns"
   ]
  },
  {
   "cell_type": "code",
   "execution_count": 110,
   "metadata": {},
   "outputs": [
    {
     "data": {
      "text/plain": [
       "Index(['ilce', 'fiyat', 'tarih', 'alan1', 'yas', 'kat_sayisi', 'oda_sayisi',\n",
       "       'kacinci_kat', 'kredi', 'netm2', 'tip'],\n",
       "      dtype='object')"
      ]
     },
     "execution_count": 110,
     "metadata": {},
     "output_type": "execute_result"
    }
   ],
   "source": [
    "veri.rename(columns={\n",
    "   'district':\"ilce\", \n",
    "   'price':\"fiyat\", \n",
    "   'AdUpdateDate':\"tarih\",\n",
    "   'GrossSquareMeters':\"alan1\", \n",
    "   'BuildingAge':\"yas\",\n",
    "    'NumberFloorsofBuilding':\"kat_sayisi\", \n",
    "    'NumberOfRooms':\"oda_sayisi\", \n",
    "    'FloorLocation':\"kacinci_kat\",\n",
    "    'CreditEligibility':\"kredi\", \n",
    "    'NetSquareMeters':\"netm2\",\n",
    "    'kategori':\"tip\"\n",
    "},inplace=True)\n",
    "veri.columns"
   ]
  },
  {
   "cell_type": "code",
   "execution_count": 111,
   "metadata": {},
   "outputs": [
    {
     "name": "stdout",
     "output_type": "stream",
     "text": [
      "['adalar' 'arnavutkoy' 'atasehir' 'avcilar' 'bagcilar' 'bahcelievler'\n",
      " 'bakirkoy' 'basaksehir' 'bayrampasa' 'besiktas' 'beykoz' 'beylikduzu'\n",
      " 'beyoglu' 'buyukcekmece' 'catalca' 'cekmekoy' 'esenler' 'esenyurt'\n",
      " 'eyupsultan' 'fatih' 'gaziosmanpasa' 'gungoren' 'kadikoy' 'kagithane'\n",
      " 'kartal' 'kucukcekmece' 'maltepe' 'pendik' 'sancaktepe' 'sariyer' 'sile'\n",
      " 'silivri' 'sisli' 'sultanbeyli' 'sultangazi' 'tuzla' 'umraniye' 'uskudar'\n",
      " 'zeytinburnu']\n",
      "39\n"
     ]
    }
   ],
   "source": [
    "print(veri[\"ilce\"].unique())\n",
    "print(len(veri[\"ilce\"].unique()))"
   ]
  },
  {
   "cell_type": "code",
   "execution_count": 112,
   "metadata": {},
   "outputs": [
    {
     "data": {
      "text/plain": [
       "ilce\n",
       "sariyer          1449\n",
       "kadikoy          1446\n",
       "bahcelievler     1429\n",
       "esenyurt         1415\n",
       "kucukcekmece     1361\n",
       "maltepe          1230\n",
       "sultangazi       1000\n",
       "avcilar           933\n",
       "cekmekoy          923\n",
       "sancaktepe        918\n",
       "beylikduzu        888\n",
       "buyukcekmece      756\n",
       "kagithane         756\n",
       "gaziosmanpasa     709\n",
       "umraniye          690\n",
       "pendik            678\n",
       "bakirkoy          673\n",
       "basaksehir        671\n",
       "besiktas          659\n",
       "eyupsultan        635\n",
       "kartal            619\n",
       "uskudar           618\n",
       "sisli             595\n",
       "bagcilar          522\n",
       "fatih             488\n",
       "tuzla             382\n",
       "atasehir          378\n",
       "silivri           342\n",
       "sultanbeyli       314\n",
       "esenler           265\n",
       "arnavutkoy        256\n",
       "beyoglu           228\n",
       "gungoren          221\n",
       "zeytinburnu       191\n",
       "bayrampasa        174\n",
       "beykoz            148\n",
       "sile               95\n",
       "catalca            74\n",
       "adalar             26\n",
       "Name: count, dtype: int64"
      ]
     },
     "execution_count": 112,
     "metadata": {},
     "output_type": "execute_result"
    }
   ],
   "source": [
    "veri[\"ilce\"].value_counts()"
   ]
  },
  {
   "cell_type": "code",
   "execution_count": 113,
   "metadata": {},
   "outputs": [
    {
     "data": {
      "text/plain": [
       "tip\n",
       "Daire            21511\n",
       "Residence         1764\n",
       "Villa              890\n",
       "Bina               487\n",
       "Müstakil Ev        328\n",
       "Köşk                46\n",
       "Yalı (Komple)       45\n",
       "Çiftlik Evi         33\n",
       "Yalı Dairesi        32\n",
       "Yazlık              12\n",
       "Dağ Evi              2\n",
       "Devremülk            2\n",
       "Kooperatif           1\n",
       "Köy Evi              1\n",
       "Prefabrik            1\n",
       "Name: count, dtype: int64"
      ]
     },
     "execution_count": 113,
     "metadata": {},
     "output_type": "execute_result"
    }
   ],
   "source": [
    "veri[\"tip\"].value_counts()"
   ]
  },
  {
   "cell_type": "code",
   "execution_count": 114,
   "metadata": {},
   "outputs": [
    {
     "data": {
      "text/plain": [
       "array(['adalar', 'arnavutkoy', 'atasehir', 'avcilar', 'bagcilar',\n",
       "       'bahcelievler', 'bakirkoy', 'basaksehir', 'bayrampasa', 'besiktas',\n",
       "       'beykoz', 'beylikduzu', 'beyoglu', 'buyukcekmece', 'catalca',\n",
       "       'cekmekoy', 'esenler', 'esenyurt', 'eyupsultan', 'fatih',\n",
       "       'gaziosmanpasa', 'gungoren', 'kadikoy', 'kagithane', 'kartal',\n",
       "       'kucukcekmece', 'maltepe', 'pendik', 'sancaktepe', 'sariyer',\n",
       "       'sile', 'silivri', 'sisli', 'sultanbeyli', 'sultangazi', 'tuzla',\n",
       "       'umraniye', 'uskudar', 'zeytinburnu'], dtype=object)"
      ]
     },
     "execution_count": 114,
     "metadata": {},
     "output_type": "execute_result"
    }
   ],
   "source": [
    "veri[\"ilce\"]=veri[\"ilce\"].str.lower()\n",
    "veri[\"ilce\"].unique()"
   ]
  },
  {
   "cell_type": "code",
   "execution_count": 115,
   "metadata": {},
   "outputs": [
    {
     "data": {
      "text/plain": [
       "kredi\n",
       "Krediye Uygun          22197\n",
       "Krediye Uygun Değil     2568\n",
       "Bilinmiyor               390\n",
       "Name: count, dtype: int64"
      ]
     },
     "execution_count": 115,
     "metadata": {},
     "output_type": "execute_result"
    }
   ],
   "source": [
    "veri[\"kredi\"].value_counts()"
   ]
  },
  {
   "cell_type": "code",
   "execution_count": 116,
   "metadata": {},
   "outputs": [
    {
     "data": {
      "text/plain": [
       "kredi\n",
       "uygun         22197\n",
       "degil          2568\n",
       "bilinmiyor      390\n",
       "Name: count, dtype: int64"
      ]
     },
     "execution_count": 116,
     "metadata": {},
     "output_type": "execute_result"
    }
   ],
   "source": [
    "veri[\"kredi\"]=veri[\"kredi\"].str.replace(\"Krediye Uygun Değil\",\"degil\")\n",
    "veri[\"kredi\"]=veri[\"kredi\"].str.replace(\"Krediye Uygun\",\"uygun\")\n",
    "veri[\"kredi\"]=veri[\"kredi\"].str.replace(\"Bilinmiyor\",\"bilinmiyor\")\n",
    "veri[\"kredi\"].value_counts()"
   ]
  },
  {
   "cell_type": "code",
   "execution_count": 117,
   "metadata": {},
   "outputs": [
    {
     "data": {
      "text/plain": [
       "oda_sayisi\n",
       "2+1       9752\n",
       "3+1       6868\n",
       "1+1       2046\n",
       "4+1       1687\n",
       "4+2       1148\n",
       "3+2        642\n",
       "5+2        597\n",
       "5+1        589\n",
       "8+ Oda     324\n",
       "Stüdyo     263\n",
       "6+2        233\n",
       "6+1        180\n",
       "1 Oda      169\n",
       "2+2        161\n",
       "3.5+1       87\n",
       "7+2         72\n",
       "4.5+1       55\n",
       "2.5+1       48\n",
       "7+3         42\n",
       "7+1         41\n",
       "5+3         41\n",
       "6+3         37\n",
       "1.5+1       32\n",
       "2+0         14\n",
       "5 Oda       13\n",
       "6+4         10\n",
       "5+4          4\n",
       "Name: count, dtype: int64"
      ]
     },
     "execution_count": 117,
     "metadata": {},
     "output_type": "execute_result"
    }
   ],
   "source": [
    "veri[\"oda_sayisi\"].value_counts()"
   ]
  },
  {
   "cell_type": "code",
   "execution_count": 121,
   "metadata": {},
   "outputs": [
    {
     "data": {
      "text/plain": [
       "ilce\n",
       "adalar           8.095577e+06\n",
       "arnavutkoy       1.254828e+06\n",
       "atasehir         5.717714e+06\n",
       "avcilar          1.488564e+06\n",
       "bagcilar         6.197389e+06\n",
       "bahcelievler     1.448017e+06\n",
       "bakirkoy         6.684624e+06\n",
       "basaksehir       2.457375e+06\n",
       "bayrampasa       2.653253e+06\n",
       "besiktas         2.263455e+07\n",
       "beykoz           3.061407e+07\n",
       "beylikduzu       3.099571e+06\n",
       "beyoglu          4.765056e+06\n",
       "buyukcekmece     4.287714e+06\n",
       "catalca          5.096489e+06\n",
       "cekmekoy         1.715376e+06\n",
       "esenler          8.591019e+05\n",
       "esenyurt         8.012613e+05\n",
       "eyupsultan       2.074624e+06\n",
       "fatih            2.785632e+06\n",
       "gaziosmanpasa    1.324071e+06\n",
       "gungoren         1.457787e+06\n",
       "kadikoy          5.466239e+06\n",
       "kagithane        3.803393e+06\n",
       "kartal           2.797948e+07\n",
       "kucukcekmece     1.415696e+06\n",
       "maltepe          2.210909e+06\n",
       "pendik           1.432552e+06\n",
       "sancaktepe       1.283540e+06\n",
       "sariyer          1.341739e+07\n",
       "sile             2.570215e+07\n",
       "silivri          9.223424e+06\n",
       "sisli            8.784342e+06\n",
       "sultanbeyli      1.091632e+06\n",
       "sultangazi       8.784640e+05\n",
       "tuzla            1.949194e+06\n",
       "umraniye         1.709095e+06\n",
       "uskudar          1.032212e+07\n",
       "zeytinburnu      5.197288e+06\n",
       "Name: fiyat, dtype: float64"
      ]
     },
     "execution_count": 121,
     "metadata": {},
     "output_type": "execute_result"
    }
   ],
   "source": [
    "# ilcelere göre ev ortalama fiyatları\n",
    "veri.groupby(\"ilce\")[\"fiyat\"].mean()"
   ]
  }
 ],
 "metadata": {
  "kernelspec": {
   "display_name": "Python 3",
   "language": "python",
   "name": "python3"
  },
  "language_info": {
   "codemirror_mode": {
    "name": "ipython",
    "version": 3
   },
   "file_extension": ".py",
   "mimetype": "text/x-python",
   "name": "python",
   "nbconvert_exporter": "python",
   "pygments_lexer": "ipython3",
   "version": "3.10.12"
  }
 },
 "nbformat": 4,
 "nbformat_minor": 2
}
