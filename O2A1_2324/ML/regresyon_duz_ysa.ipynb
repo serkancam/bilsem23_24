{
 "cells": [
  {
   "cell_type": "code",
   "execution_count": null,
   "metadata": {},
   "outputs": [],
   "source": [
    "# regresyon_duz_ysa.ipynb"
   ]
  },
  {
   "cell_type": "code",
   "execution_count": 1,
   "metadata": {},
   "outputs": [],
   "source": [
    "import pandas as pd\n",
    "import numpy as np"
   ]
  },
  {
   "cell_type": "code",
   "execution_count": 11,
   "metadata": {},
   "outputs": [
    {
     "data": {
      "text/html": [
       "<div>\n",
       "<style scoped>\n",
       "    .dataframe tbody tr th:only-of-type {\n",
       "        vertical-align: middle;\n",
       "    }\n",
       "\n",
       "    .dataframe tbody tr th {\n",
       "        vertical-align: top;\n",
       "    }\n",
       "\n",
       "    .dataframe thead th {\n",
       "        text-align: right;\n",
       "    }\n",
       "</style>\n",
       "<table border=\"1\" class=\"dataframe\">\n",
       "  <thead>\n",
       "    <tr style=\"text-align: right;\">\n",
       "      <th></th>\n",
       "      <th>ozellik1</th>\n",
       "      <th>ozellik2</th>\n",
       "      <th>sinif-hedef</th>\n",
       "    </tr>\n",
       "  </thead>\n",
       "  <tbody>\n",
       "    <tr>\n",
       "      <th>0</th>\n",
       "      <td>10</td>\n",
       "      <td>5</td>\n",
       "      <td>38</td>\n",
       "    </tr>\n",
       "    <tr>\n",
       "      <th>1</th>\n",
       "      <td>20</td>\n",
       "      <td>30</td>\n",
       "      <td>93</td>\n",
       "    </tr>\n",
       "    <tr>\n",
       "      <th>2</th>\n",
       "      <td>3</td>\n",
       "      <td>2</td>\n",
       "      <td>14</td>\n",
       "    </tr>\n",
       "    <tr>\n",
       "      <th>3</th>\n",
       "      <td>5</td>\n",
       "      <td>8</td>\n",
       "      <td>26</td>\n",
       "    </tr>\n",
       "    <tr>\n",
       "      <th>4</th>\n",
       "      <td>7</td>\n",
       "      <td>10</td>\n",
       "      <td>34</td>\n",
       "    </tr>\n",
       "  </tbody>\n",
       "</table>\n",
       "</div>"
      ],
      "text/plain": [
       "   ozellik1  ozellik2  sinif-hedef\n",
       "0        10         5           38\n",
       "1        20        30           93\n",
       "2         3         2           14\n",
       "3         5         8           26\n",
       "4         7        10           34"
      ]
     },
     "execution_count": 11,
     "metadata": {},
     "output_type": "execute_result"
    }
   ],
   "source": [
    "veri = pd.read_csv(\"regresyon_veri2.csv\")\n",
    "veri.head(5)"
   ]
  },
  {
   "cell_type": "code",
   "execution_count": 12,
   "metadata": {},
   "outputs": [
    {
     "data": {
      "text/html": [
       "<div>\n",
       "<style scoped>\n",
       "    .dataframe tbody tr th:only-of-type {\n",
       "        vertical-align: middle;\n",
       "    }\n",
       "\n",
       "    .dataframe tbody tr th {\n",
       "        vertical-align: top;\n",
       "    }\n",
       "\n",
       "    .dataframe thead th {\n",
       "        text-align: right;\n",
       "    }\n",
       "</style>\n",
       "<table border=\"1\" class=\"dataframe\">\n",
       "  <thead>\n",
       "    <tr style=\"text-align: right;\">\n",
       "      <th></th>\n",
       "      <th>ozellik1</th>\n",
       "      <th>ozellik2</th>\n",
       "      <th>sinif-hedef</th>\n",
       "    </tr>\n",
       "  </thead>\n",
       "  <tbody>\n",
       "    <tr>\n",
       "      <th>0</th>\n",
       "      <td>-0.706900</td>\n",
       "      <td>-0.829696</td>\n",
       "      <td>-0.811129</td>\n",
       "    </tr>\n",
       "    <tr>\n",
       "      <th>1</th>\n",
       "      <td>-0.372826</td>\n",
       "      <td>-0.091532</td>\n",
       "      <td>-0.323991</td>\n",
       "    </tr>\n",
       "    <tr>\n",
       "      <th>2</th>\n",
       "      <td>-0.940752</td>\n",
       "      <td>-0.918275</td>\n",
       "      <td>-1.023698</td>\n",
       "    </tr>\n",
       "    <tr>\n",
       "      <th>3</th>\n",
       "      <td>-0.873937</td>\n",
       "      <td>-0.741116</td>\n",
       "      <td>-0.917414</td>\n",
       "    </tr>\n",
       "    <tr>\n",
       "      <th>4</th>\n",
       "      <td>-0.807122</td>\n",
       "      <td>-0.682063</td>\n",
       "      <td>-0.846557</td>\n",
       "    </tr>\n",
       "  </tbody>\n",
       "</table>\n",
       "</div>"
      ],
      "text/plain": [
       "   ozellik1  ozellik2  sinif-hedef\n",
       "0 -0.706900 -0.829696    -0.811129\n",
       "1 -0.372826 -0.091532    -0.323991\n",
       "2 -0.940752 -0.918275    -1.023698\n",
       "3 -0.873937 -0.741116    -0.917414\n",
       "4 -0.807122 -0.682063    -0.846557"
      ]
     },
     "execution_count": 12,
     "metadata": {},
     "output_type": "execute_result"
    }
   ],
   "source": [
    "ort=veri.mean()\n",
    "std =veri.std()\n",
    "veri = (veri-ort)/std\n",
    "\n",
    "veri.head(5)"
   ]
  },
  {
   "cell_type": "code",
   "execution_count": 13,
   "metadata": {},
   "outputs": [],
   "source": [
    "X = veri.iloc[:,:-1].values # tensör veya matris\n",
    "y = veri.iloc[:,-1].values # vektör"
   ]
  },
  {
   "cell_type": "code",
   "execution_count": 15,
   "metadata": {},
   "outputs": [],
   "source": [
    "import tensorflow as tf\n",
    "from keras import layers,models,optimizers\n",
    "from keras.callbacks import ModelCheckpoint"
   ]
  },
  {
   "cell_type": "code",
   "execution_count": 16,
   "metadata": {},
   "outputs": [
    {
     "name": "stderr",
     "output_type": "stream",
     "text": [
      "2023-11-21 19:58:16.351523: I tensorflow/compiler/xla/stream_executor/cuda/cuda_gpu_executor.cc:894] successful NUMA node read from SysFS had negative value (-1), but there must be at least one NUMA node, so returning NUMA node zero. See more at https://github.com/torvalds/linux/blob/v6.0/Documentation/ABI/testing/sysfs-bus-pci#L344-L355\n",
      "2023-11-21 19:58:16.352078: W tensorflow/core/common_runtime/gpu/gpu_device.cc:2211] Cannot dlopen some GPU libraries. Please make sure the missing libraries mentioned above are installed properly if you would like to use GPU. Follow the guide at https://www.tensorflow.org/install/gpu for how to download and setup the required libraries for your platform.\n",
      "Skipping registering GPU devices...\n"
     ]
    }
   ],
   "source": [
    "ysa = models.Sequential()\n",
    "ysa.add(layers.Dense(3,input_shape=(2,),activation=\"relu\"))\n",
    "ysa.add(layers.Dense(2,activation=\"relu\"))\n",
    "ysa.add(layers.Dense(1)) # activation function eklenmiyor çünkü sayı tahmini yapılacak\n",
    "ysa.compile(optimizer=\"rmsprop\",loss=\"mse\",metrics=[\"mae\"])\n",
    "\n",
    "#callback eklenecek 28.11.2023\n"
   ]
  },
  {
   "cell_type": "code",
   "execution_count": null,
   "metadata": {},
   "outputs": [],
   "source": [
    "print(ysa.summary())"
   ]
  },
  {
   "cell_type": "code",
   "execution_count": 18,
   "metadata": {},
   "outputs": [
    {
     "name": "stdout",
     "output_type": "stream",
     "text": [
      "Epoch 1/10\n",
      "2/2 [==============================] - 0s 89ms/step - loss: 1.1885 - mae: 0.9209 - val_loss: 0.4672 - val_mae: 0.6448\n",
      "Epoch 2/10\n",
      "2/2 [==============================] - 0s 15ms/step - loss: 1.1809 - mae: 0.9146 - val_loss: 0.4573 - val_mae: 0.6379\n",
      "Epoch 3/10\n",
      "2/2 [==============================] - 0s 15ms/step - loss: 1.1776 - mae: 0.9119 - val_loss: 0.4405 - val_mae: 0.6265\n",
      "Epoch 4/10\n",
      "2/2 [==============================] - 0s 15ms/step - loss: 1.1735 - mae: 0.9074 - val_loss: 0.4277 - val_mae: 0.6176\n",
      "Epoch 5/10\n",
      "2/2 [==============================] - 0s 14ms/step - loss: 1.1701 - mae: 0.9037 - val_loss: 0.4168 - val_mae: 0.6097\n",
      "Epoch 6/10\n",
      "2/2 [==============================] - 0s 15ms/step - loss: 1.1674 - mae: 0.9007 - val_loss: 0.4078 - val_mae: 0.6029\n",
      "Epoch 7/10\n",
      "2/2 [==============================] - 0s 16ms/step - loss: 1.1651 - mae: 0.8983 - val_loss: 0.3950 - val_mae: 0.5934\n",
      "Epoch 8/10\n",
      "2/2 [==============================] - 0s 14ms/step - loss: 1.1628 - mae: 0.8952 - val_loss: 0.3891 - val_mae: 0.5891\n",
      "Epoch 9/10\n",
      "2/2 [==============================] - 0s 16ms/step - loss: 1.1616 - mae: 0.8932 - val_loss: 0.3804 - val_mae: 0.5825\n",
      "Epoch 10/10\n",
      "2/2 [==============================] - 0s 15ms/step - loss: 1.1602 - mae: 0.8908 - val_loss: 0.3750 - val_mae: 0.5779\n"
     ]
    }
   ],
   "source": [
    "kayit = ysa.fit(X,y,epochs=10,validation_split=0.2)"
   ]
  }
 ],
 "metadata": {
  "kernelspec": {
   "display_name": "Python 3",
   "language": "python",
   "name": "python3"
  },
  "language_info": {
   "codemirror_mode": {
    "name": "ipython",
    "version": 3
   },
   "file_extension": ".py",
   "mimetype": "text/x-python",
   "name": "python",
   "nbconvert_exporter": "python",
   "pygments_lexer": "ipython3",
   "version": "3.10.12"
  }
 },
 "nbformat": 4,
 "nbformat_minor": 2
}
