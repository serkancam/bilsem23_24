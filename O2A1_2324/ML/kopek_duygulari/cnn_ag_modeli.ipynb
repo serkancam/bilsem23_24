{
 "cells": [
  {
   "cell_type": "code",
   "execution_count": 11,
   "metadata": {},
   "outputs": [],
   "source": [
    "# cnn_ag_modeli.ipynb"
   ]
  },
  {
   "cell_type": "markdown",
   "metadata": {},
   "source": [
    "##### iş akışı\n",
    "* ilgili resimler bir veri seti olacak şekilde ön işleme tabi tutulur.(yapıldı)\n",
    "* resimleri alıp bir veri seti yapısına dönüştürmek için imagedatagenerator kullanılacak. Bu sayede bu resimler öznitelik(X) ve etiket/sınıf(y) olarak programda kullanılmak üzere dönüştürülecek.\n",
    "* Bir model oluşturulacak. Bu modele eğitim ve doğrulama verileri uygulanacak."
   ]
  },
  {
   "cell_type": "code",
   "execution_count": 12,
   "metadata": {},
   "outputs": [
    {
     "name": "stdout",
     "output_type": "stream",
     "text": [
      "Found 11940 images belonging to 4 classes.\n",
      "Found 2386 images belonging to 4 classes.\n"
     ]
    }
   ],
   "source": [
    "from keras.preprocessing.image import ImageDataGenerator\n",
    "\n",
    "\n",
    "egitim_veri_yolu=\"/home/serkan/Belgeler/bilsem23_24/O2A1_2324/ML/kopek_duygulari/data/train\"\n",
    "dogrulama_veri_yolu=\"/home/serkan/Belgeler/bilsem23_24/O2A1_2324/ML/kopek_duygulari/data/validation\"\n",
    "uretec = ImageDataGenerator(rescale=1.0/255)\n",
    "\n",
    "egitim_ureteci = uretec.flow_from_directory(\n",
    "    directory=egitim_veri_yolu,\n",
    "    target_size=(100,100),\n",
    "    class_mode=\"categorical\",\n",
    "    batch_size=4      \n",
    ")\n",
    "\n",
    "dogrulama_ureteci=uretec.flow_from_directory(\n",
    "    directory=dogrulama_veri_yolu,\n",
    "    target_size=(100,100),\n",
    "    class_mode=\"categorical\",\n",
    "    batch_size=4      \n",
    ")\n"
   ]
  },
  {
   "cell_type": "code",
   "execution_count": 15,
   "metadata": {},
   "outputs": [
    {
     "name": "stdout",
     "output_type": "stream",
     "text": [
      "Model: \"sequential_7\"\n",
      "_________________________________________________________________\n",
      " Layer (type)                Output Shape              Param #   \n",
      "=================================================================\n",
      " conv2d_14 (Conv2D)          (None, 98, 98, 32)        896       \n",
      "                                                                 \n",
      " max_pooling2d_14 (MaxPooli  (None, 49, 49, 32)        0         \n",
      " ng2D)                                                           \n",
      "                                                                 \n",
      " conv2d_15 (Conv2D)          (None, 47, 47, 64)        18496     \n",
      "                                                                 \n",
      " max_pooling2d_15 (MaxPooli  (None, 23, 23, 64)        0         \n",
      " ng2D)                                                           \n",
      "                                                                 \n",
      " flatten_7 (Flatten)         (None, 33856)             0         \n",
      "                                                                 \n",
      " dense_14 (Dense)            (None, 256)               8667392   \n",
      "                                                                 \n",
      " dense_15 (Dense)            (None, 4)                 1028      \n",
      "                                                                 \n",
      "=================================================================\n",
      "Total params: 8687812 (33.14 MB)\n",
      "Trainable params: 8687812 (33.14 MB)\n",
      "Non-trainable params: 0 (0.00 Byte)\n",
      "_________________________________________________________________\n",
      "None\n"
     ]
    }
   ],
   "source": [
    "# haftaya daha ayrıntılı bir kod ile eğitim yapılacak\n",
    "from keras.models import Sequential\n",
    "from keras.layers import Conv2D,MaxPool2D,Dense,Flatten\n",
    "model=Sequential()\n",
    "\n",
    "model.add(Conv2D(filters=32,kernel_size=(3,3),activation=\"relu\",input_shape=(100,100,3)))\n",
    "model.add(MaxPool2D(pool_size=(2,2)))\n",
    "model.add(Conv2D(filters=64,kernel_size=(3,3),activation=\"relu\"))\n",
    "model.add(MaxPool2D(pool_size=(2,2)))\n",
    "model.add(Flatten())\n",
    "model.add(Dense(units=256,activation=\"relu\"))\n",
    "model.add(Dense(units=4,activation=\"softmax\"))\n",
    "\n",
    "print(model.summary())\n",
    "\n",
    "model.compile(loss=\"categorical_crossentropy\",optimizer=\"rmsprop\",metrics=[\"accuracy\"])\n",
    "\n",
    "\n",
    "# history=model.fit(\n",
    "#     egitim_ureteci,\n",
    "#     validation_data=dogrulama_ureteci,\n",
    "#     epochs=10\n",
    "# )"
   ]
  }
 ],
 "metadata": {
  "kernelspec": {
   "display_name": "Python 3",
   "language": "python",
   "name": "python3"
  },
  "language_info": {
   "codemirror_mode": {
    "name": "ipython",
    "version": 3
   },
   "file_extension": ".py",
   "mimetype": "text/x-python",
   "name": "python",
   "nbconvert_exporter": "python",
   "pygments_lexer": "ipython3",
   "version": "3.10.12"
  }
 },
 "nbformat": 4,
 "nbformat_minor": 2
}
