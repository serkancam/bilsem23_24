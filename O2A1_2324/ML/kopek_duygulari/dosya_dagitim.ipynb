{
 "cells": [
  {
   "cell_type": "code",
   "execution_count": null,
   "metadata": {},
   "outputs": [],
   "source": [
    "# dosya_dagitim.ipynb"
   ]
  },
  {
   "cell_type": "code",
   "execution_count": 2,
   "metadata": {},
   "outputs": [],
   "source": [
    "import os"
   ]
  },
  {
   "cell_type": "code",
   "execution_count": 3,
   "metadata": {},
   "outputs": [
    {
     "name": "stdout",
     "output_type": "stream",
     "text": [
      "/home/serkan/Belgeler/bilsem23_24/O2A1_2324/ML/kopek_duygulari\n"
     ]
    }
   ],
   "source": [
    "#kodun çalıştığı dizini bulmak\n",
    "calisma_dizini=os.getcwd()\n",
    "print(calisma_dizini)"
   ]
  },
  {
   "cell_type": "code",
   "execution_count": 4,
   "metadata": {},
   "outputs": [
    {
     "name": "stdout",
     "output_type": "stream",
     "text": [
      "/home/serkan/Belgeler/bilsem23_24/O2A1_2324/ML/kopek_duygulari\n"
     ]
    }
   ],
   "source": [
    "!pwd"
   ]
  },
  {
   "cell_type": "code",
   "execution_count": 5,
   "metadata": {},
   "outputs": [
    {
     "name": "stdout",
     "output_type": "stream",
     "text": [
      "/home/serkan/Belgeler/bilsem23_24/O2A1_2324/ML/kopek_duygulari/dog_emotions/images\n"
     ]
    }
   ],
   "source": [
    "raw_data_dir=os.path.join(os.getcwd(),\"dog_emotions\",\"images\")\n",
    "print(raw_data_dir)"
   ]
  }
 ],
 "metadata": {
  "kernelspec": {
   "display_name": "Python 3",
   "language": "python",
   "name": "python3"
  },
  "language_info": {
   "codemirror_mode": {
    "name": "ipython",
    "version": 3
   },
   "file_extension": ".py",
   "mimetype": "text/x-python",
   "name": "python",
   "nbconvert_exporter": "python",
   "pygments_lexer": "ipython3",
   "version": "3.10.12"
  }
 },
 "nbformat": 4,
 "nbformat_minor": 2
}
